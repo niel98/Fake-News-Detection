{
 "cells": [
  {
   "cell_type": "code",
   "execution_count": 1,
   "metadata": {},
   "outputs": [],
   "source": [
    "import pandas as pd"
   ]
  },
  {
   "cell_type": "code",
   "execution_count": 2,
   "metadata": {},
   "outputs": [
    {
     "data": {
      "text/html": [
       "<div>\n",
       "<style scoped>\n",
       "    .dataframe tbody tr th:only-of-type {\n",
       "        vertical-align: middle;\n",
       "    }\n",
       "\n",
       "    .dataframe tbody tr th {\n",
       "        vertical-align: top;\n",
       "    }\n",
       "\n",
       "    .dataframe thead th {\n",
       "        text-align: right;\n",
       "    }\n",
       "</style>\n",
       "<table border=\"1\" class=\"dataframe\">\n",
       "  <thead>\n",
       "    <tr style=\"text-align: right;\">\n",
       "      <th></th>\n",
       "      <th>URLs</th>\n",
       "      <th>Headline</th>\n",
       "      <th>Body</th>\n",
       "      <th>Label</th>\n",
       "    </tr>\n",
       "  </thead>\n",
       "  <tbody>\n",
       "    <tr>\n",
       "      <td>0</td>\n",
       "      <td>http://www.bbc.com/news/world-us-canada-414191...</td>\n",
       "      <td>Four ways Bob Corker skewered Donald Trump</td>\n",
       "      <td>Image copyright Getty Images\\nOn Sunday mornin...</td>\n",
       "      <td>1</td>\n",
       "    </tr>\n",
       "    <tr>\n",
       "      <td>1</td>\n",
       "      <td>https://www.reuters.com/article/us-filmfestiva...</td>\n",
       "      <td>Linklater's war veteran comedy speaks to moder...</td>\n",
       "      <td>LONDON (Reuters) - “Last Flag Flying”, a comed...</td>\n",
       "      <td>1</td>\n",
       "    </tr>\n",
       "    <tr>\n",
       "      <td>2</td>\n",
       "      <td>https://www.nytimes.com/2017/10/09/us/politics...</td>\n",
       "      <td>Trump’s Fight With Corker Jeopardizes His Legi...</td>\n",
       "      <td>The feud broke into public view last week when...</td>\n",
       "      <td>1</td>\n",
       "    </tr>\n",
       "    <tr>\n",
       "      <td>3</td>\n",
       "      <td>https://www.reuters.com/article/us-mexico-oil-...</td>\n",
       "      <td>Egypt's Cheiron wins tie-up with Pemex for Mex...</td>\n",
       "      <td>MEXICO CITY (Reuters) - Egypt’s Cheiron Holdin...</td>\n",
       "      <td>1</td>\n",
       "    </tr>\n",
       "    <tr>\n",
       "      <td>4</td>\n",
       "      <td>http://www.cnn.com/videos/cnnmoney/2017/10/08/...</td>\n",
       "      <td>Jason Aldean opens 'SNL' with Vegas tribute</td>\n",
       "      <td>Country singer Jason Aldean, who was performin...</td>\n",
       "      <td>1</td>\n",
       "    </tr>\n",
       "  </tbody>\n",
       "</table>\n",
       "</div>"
      ],
      "text/plain": [
       "                                                URLs  \\\n",
       "0  http://www.bbc.com/news/world-us-canada-414191...   \n",
       "1  https://www.reuters.com/article/us-filmfestiva...   \n",
       "2  https://www.nytimes.com/2017/10/09/us/politics...   \n",
       "3  https://www.reuters.com/article/us-mexico-oil-...   \n",
       "4  http://www.cnn.com/videos/cnnmoney/2017/10/08/...   \n",
       "\n",
       "                                            Headline  \\\n",
       "0         Four ways Bob Corker skewered Donald Trump   \n",
       "1  Linklater's war veteran comedy speaks to moder...   \n",
       "2  Trump’s Fight With Corker Jeopardizes His Legi...   \n",
       "3  Egypt's Cheiron wins tie-up with Pemex for Mex...   \n",
       "4        Jason Aldean opens 'SNL' with Vegas tribute   \n",
       "\n",
       "                                                Body  Label  \n",
       "0  Image copyright Getty Images\\nOn Sunday mornin...      1  \n",
       "1  LONDON (Reuters) - “Last Flag Flying”, a comed...      1  \n",
       "2  The feud broke into public view last week when...      1  \n",
       "3  MEXICO CITY (Reuters) - Egypt’s Cheiron Holdin...      1  \n",
       "4  Country singer Jason Aldean, who was performin...      1  "
      ]
     },
     "execution_count": 2,
     "metadata": {},
     "output_type": "execute_result"
    }
   ],
   "source": [
    "#importing the dataset as a corpus using the pandas library\n",
    "data = pd.read_csv('data.csv')\n",
    "data.head()"
   ]
  },
  {
   "cell_type": "code",
   "execution_count": 3,
   "metadata": {},
   "outputs": [
    {
     "data": {
      "text/plain": [
       "'Image copyright Getty Images\\nOn Sunday morning, Donald Trump went off on a Twitter tirade against a member of his own party.\\nThis, in itself, isn\\'t exactly huge news. It\\'s far from the first time the president has turned his rhetorical cannons on his own ranks.\\nThis time, however, his attacks were particularly biting and personal. He essentially called Tennessee Senator Bob Corker, the chair of the powerful Senate Foreign Relations Committee, a coward for not running for re-election.\\nHe said Mr Corker \"begged\" for the president\\'s endorsement, which he refused to give. He wrongly claimed that Mr Corker\\'s support of the Iranian nuclear agreement was his only political accomplishment.\\nUnlike some of his colleagues, Mr Corker - free from having to worry about his immediate political future - didn\\'t hold his tongue.\\nSkip Twitter post by @SenBobCorker It\\'s a shame the White House has become an adult day care center. Someone obviously missed their shift this morning. — Senator Bob Corker (@SenBobCorker) October 8, 2017 Report\\nThat wasn\\'t the end of it, though. He then spoke with the New York Times and really let the president have it. Here are four choice quotes from the Tennessee senator\\'s interview with the Times and why they are particularly damning.\\n\"I don\\'t know why the president tweets out things that are not true. You know he does it, everyone knows he does it, but he does.\"\\nYou can\\'t really sugarcoat this one. Mr Corker is flat-out saying the president is a liar - and everyone knows it.\\nThe senator, in particular, is challenging Mr Trump\\'s insistence that he unsuccessfully pleaded for his endorsement, but the accusation is much broader.\\nMr Corker and the president used to be something akin to allies. The Tennessean was on Mr Trump\\'s short list for vice-president and secretary of state.\\nImage copyright Getty Images Image caption Bob Corker at Trump campaign rally in July 2016\\nThose days are seemingly very much over now - and it\\'s not like Mr Corker is going anywhere anytime soon. Although he\\'s not running for re-election, he\\'ll be in the Senate, chairing a powerful committee, until January 2019.\\nThe president\\'s margin for success in that chamber is razor-thin. If Democrats can continue to stand together in opposition, he can afford to lose only two votes out of 52 Republican senators. That\\'s why healthcare reform collapsed in July - and it could be bad news for tax efforts.\\nFrom here on out, Mr Corker isn\\'t going to do the president any favours.\\n\"Look, except for a few people, the vast majority of our caucus understands what we\\'re dealing with here.\"\\nFrustration in Congress has been growing over what Republicans feel has been the president\\'s inability to focus on advancing their agenda. Getting a sharply divided party to come together on plans to repeal Obamacare, reform taxes or boost infrastructure spending is challenging enough. Doing so when the president stirs up unrelated controversies on a seemingly daily basis makes things all the harder.\\nOne of the president\\'s gifts has been his ability to shake off negative stories by quickly moving on to a different subject. That worked brilliantly during his presidential campaign, but it\\'s less effective during the legislative slow grind.\\nImage copyright Getty Images Image caption Corker at the confirmation hearing for Secretary of State Rex Tillerson\\nFor months, Republicans in Congress have been grumbling about this in the background and among themselves. Occasionally, someone like Mr McConnell will lament that the president doesn\\'t understand how the Senate works.\\nMr Corker has now stated it loud and clear. And, what\\'s more, he says almost everyone agrees with him. They\\'ve kept silent until now because they still hope to pass conservative legislation that the president can sign or fear Mr Trump\\'s legions will back a primary challenge next year or stay home during the general election.\\nIf that calculus ever changes - if it becomes riskier to stay silent than speak out - Mr Trump will be in real trouble.\\n\"A lot of people think that there is some kind of \\'good cop, bad cop\\' act underway, but that\\'s just not true.\"\\nTime and again, Mr Trump has appeared to undercut Secretary of State Rex Tillerson and others in his administration who are attempting to use soft diplomacy to deal with a range of international crises.\\nThe war against the Taliban in Afghanistan, Iran\\'s compliance with the multinational nuclear agreement, the ongoing dispute between Qatar and its Persian Gulf neighbours, the unrest in Venezuela and, most recently, North Korea\\'s continued ballistic missile tests have all been the target of the president\\'s offhand remarks and Twitter invective.\\nSome administration defenders have said this is all a part of Mr Trump\\'s strategy - an updated version of the Nixon-era \"madman theory\", in which the president forces adversaries to give way because they fear an unpredictable US leader\\'s actions.\\nMr Corker isn\\'t buying it. There\\'s no strategy, he says, just the possibility of chaos - which he hopes Mr Trump\\'s senior advisers will be able to avoid.\\n\"I know for a fact that every single day at the White House, it\\'s a situation of trying to contain him.\"\\nThere\\'s now a growing collection of John Kelly face-palm photos that serve as a testament to the chief-of-staff\\'s reported frustration at dealing with the president.\\nMr Trump goes off-script to praise torch-bearing white nationalists at a rally in Charlottesville, and Mr Kelly is captured closing his eyes and rubbing the arch of his nose, as if attempting to stave off a migraine.\\nImage copyright Reuters Image caption White House Chief of Staff John Kelly looks on as US President Donald Trump speaks at a campaign rally\\nThe president calls North Korean leaders \"criminals\" in a speech to the United Nations, and Mr Kelly straight-up buries his face in his hands.\\nThe White House communications team is often left scrambling to try to explain or reframe an indelicate presidential \"joke\" or remark that directly contradicts what was until then the official administration line.\\nEven though Mr Kelly has brought some discipline to the West Wing staff, the president still marches to the beat of his own drum - and continues to have unfettered access to his phone\\'s Twitter app.\\nBob Corker is only the latest person - politician, journalist, sports star or celebrity - to feel the mercurial president\\'s uncontainable ire.'"
      ]
     },
     "execution_count": 3,
     "metadata": {},
     "output_type": "execute_result"
    }
   ],
   "source": [
    "#inspecting the data to see what it looks like\n",
    "data['Body'][0]"
   ]
  },
  {
   "cell_type": "code",
   "execution_count": 4,
   "metadata": {},
   "outputs": [
    {
     "data": {
      "text/plain": [
       "0    Image copyright Getty Images\\nOn Sunday mornin...\n",
       "1    LONDON (Reuters) - “Last Flag Flying”, a comed...\n",
       "2    The feud broke into public view last week when...\n",
       "3    MEXICO CITY (Reuters) - Egypt’s Cheiron Holdin...\n",
       "4    Country singer Jason Aldean, who was performin...\n",
       "5    JetNation FanDuel League; Week 4\\n% of readers...\n",
       "6    In 2012, Kansas lawmakers, led by Gov. Sam Bro...\n",
       "Name: Body, dtype: object"
      ]
     },
     "execution_count": 4,
     "metadata": {},
     "output_type": "execute_result"
    }
   ],
   "source": [
    "data['Body'][:7]"
   ]
  },
  {
   "cell_type": "code",
   "execution_count": 5,
   "metadata": {},
   "outputs": [
    {
     "data": {
      "text/html": [
       "<div>\n",
       "<style scoped>\n",
       "    .dataframe tbody tr th:only-of-type {\n",
       "        vertical-align: middle;\n",
       "    }\n",
       "\n",
       "    .dataframe tbody tr th {\n",
       "        vertical-align: top;\n",
       "    }\n",
       "\n",
       "    .dataframe thead th {\n",
       "        text-align: right;\n",
       "    }\n",
       "</style>\n",
       "<table border=\"1\" class=\"dataframe\">\n",
       "  <thead>\n",
       "    <tr style=\"text-align: right;\">\n",
       "      <th></th>\n",
       "      <th>URLs</th>\n",
       "      <th>Headline</th>\n",
       "      <th>Body</th>\n",
       "      <th>Label</th>\n",
       "    </tr>\n",
       "  </thead>\n",
       "  <tbody>\n",
       "    <tr>\n",
       "      <td>0</td>\n",
       "      <td>http://www.bbc.com/news/world-us-canada-414191...</td>\n",
       "      <td>Four ways Bob Corker skewered Donald Trump</td>\n",
       "      <td>Image copyright Getty Images\\nOn Sunday mornin...</td>\n",
       "      <td>1</td>\n",
       "    </tr>\n",
       "    <tr>\n",
       "      <td>1</td>\n",
       "      <td>https://www.reuters.com/article/us-filmfestiva...</td>\n",
       "      <td>Linklater's war veteran comedy speaks to moder...</td>\n",
       "      <td>LONDON (Reuters) - “Last Flag Flying”, a comed...</td>\n",
       "      <td>1</td>\n",
       "    </tr>\n",
       "    <tr>\n",
       "      <td>2</td>\n",
       "      <td>https://www.nytimes.com/2017/10/09/us/politics...</td>\n",
       "      <td>Trump’s Fight With Corker Jeopardizes His Legi...</td>\n",
       "      <td>The feud broke into public view last week when...</td>\n",
       "      <td>1</td>\n",
       "    </tr>\n",
       "    <tr>\n",
       "      <td>3</td>\n",
       "      <td>https://www.reuters.com/article/us-mexico-oil-...</td>\n",
       "      <td>Egypt's Cheiron wins tie-up with Pemex for Mex...</td>\n",
       "      <td>MEXICO CITY (Reuters) - Egypt’s Cheiron Holdin...</td>\n",
       "      <td>1</td>\n",
       "    </tr>\n",
       "    <tr>\n",
       "      <td>4</td>\n",
       "      <td>http://www.cnn.com/videos/cnnmoney/2017/10/08/...</td>\n",
       "      <td>Jason Aldean opens 'SNL' with Vegas tribute</td>\n",
       "      <td>Country singer Jason Aldean, who was performin...</td>\n",
       "      <td>1</td>\n",
       "    </tr>\n",
       "    <tr>\n",
       "      <td>...</td>\n",
       "      <td>...</td>\n",
       "      <td>...</td>\n",
       "      <td>...</td>\n",
       "      <td>...</td>\n",
       "    </tr>\n",
       "    <tr>\n",
       "      <td>4004</td>\n",
       "      <td>http://beforeitsnews.com/sports/2017/09/trends...</td>\n",
       "      <td>Trends to Watch</td>\n",
       "      <td>Trends to Watch\\n% of readers think this story...</td>\n",
       "      <td>0</td>\n",
       "    </tr>\n",
       "    <tr>\n",
       "      <td>4005</td>\n",
       "      <td>http://beforeitsnews.com/u-s-politics/2017/10/...</td>\n",
       "      <td>Trump Jr. Is Soon To Give A 30-Minute Speech F...</td>\n",
       "      <td>Trump Jr. Is Soon To Give A 30-Minute Speech F...</td>\n",
       "      <td>0</td>\n",
       "    </tr>\n",
       "    <tr>\n",
       "      <td>4006</td>\n",
       "      <td>https://www.activistpost.com/2017/09/ron-paul-...</td>\n",
       "      <td>Ron Paul on Trump, Anarchism &amp; the AltRight</td>\n",
       "      <td>Article unavailable</td>\n",
       "      <td>0</td>\n",
       "    </tr>\n",
       "    <tr>\n",
       "      <td>4007</td>\n",
       "      <td>https://www.reuters.com/article/us-china-pharm...</td>\n",
       "      <td>China to accept overseas trial data in bid to ...</td>\n",
       "      <td>SHANGHAI (Reuters) - China said it plans to ac...</td>\n",
       "      <td>1</td>\n",
       "    </tr>\n",
       "    <tr>\n",
       "      <td>4008</td>\n",
       "      <td>http://beforeitsnews.com/u-s-politics/2017/10/...</td>\n",
       "      <td>Vice President Mike Pence Leaves NFL Game Beca...</td>\n",
       "      <td>Vice President Mike Pence Leaves NFL Game Beca...</td>\n",
       "      <td>0</td>\n",
       "    </tr>\n",
       "  </tbody>\n",
       "</table>\n",
       "<p>4009 rows × 4 columns</p>\n",
       "</div>"
      ],
      "text/plain": [
       "                                                   URLs  \\\n",
       "0     http://www.bbc.com/news/world-us-canada-414191...   \n",
       "1     https://www.reuters.com/article/us-filmfestiva...   \n",
       "2     https://www.nytimes.com/2017/10/09/us/politics...   \n",
       "3     https://www.reuters.com/article/us-mexico-oil-...   \n",
       "4     http://www.cnn.com/videos/cnnmoney/2017/10/08/...   \n",
       "...                                                 ...   \n",
       "4004  http://beforeitsnews.com/sports/2017/09/trends...   \n",
       "4005  http://beforeitsnews.com/u-s-politics/2017/10/...   \n",
       "4006  https://www.activistpost.com/2017/09/ron-paul-...   \n",
       "4007  https://www.reuters.com/article/us-china-pharm...   \n",
       "4008  http://beforeitsnews.com/u-s-politics/2017/10/...   \n",
       "\n",
       "                                               Headline  \\\n",
       "0            Four ways Bob Corker skewered Donald Trump   \n",
       "1     Linklater's war veteran comedy speaks to moder...   \n",
       "2     Trump’s Fight With Corker Jeopardizes His Legi...   \n",
       "3     Egypt's Cheiron wins tie-up with Pemex for Mex...   \n",
       "4           Jason Aldean opens 'SNL' with Vegas tribute   \n",
       "...                                                 ...   \n",
       "4004                                    Trends to Watch   \n",
       "4005  Trump Jr. Is Soon To Give A 30-Minute Speech F...   \n",
       "4006        Ron Paul on Trump, Anarchism & the AltRight   \n",
       "4007  China to accept overseas trial data in bid to ...   \n",
       "4008  Vice President Mike Pence Leaves NFL Game Beca...   \n",
       "\n",
       "                                                   Body  Label  \n",
       "0     Image copyright Getty Images\\nOn Sunday mornin...      1  \n",
       "1     LONDON (Reuters) - “Last Flag Flying”, a comed...      1  \n",
       "2     The feud broke into public view last week when...      1  \n",
       "3     MEXICO CITY (Reuters) - Egypt’s Cheiron Holdin...      1  \n",
       "4     Country singer Jason Aldean, who was performin...      1  \n",
       "...                                                 ...    ...  \n",
       "4004  Trends to Watch\\n% of readers think this story...      0  \n",
       "4005  Trump Jr. Is Soon To Give A 30-Minute Speech F...      0  \n",
       "4006                                Article unavailable      0  \n",
       "4007  SHANGHAI (Reuters) - China said it plans to ac...      1  \n",
       "4008  Vice President Mike Pence Leaves NFL Game Beca...      0  \n",
       "\n",
       "[4009 rows x 4 columns]"
      ]
     },
     "execution_count": 5,
     "metadata": {},
     "output_type": "execute_result"
    }
   ],
   "source": [
    "#Looking at the data, there are some missing columns, so let's take care of that\n",
    "data.fillna('Article unavailable')"
   ]
  },
  {
   "cell_type": "code",
   "execution_count": 6,
   "metadata": {},
   "outputs": [],
   "source": [
    "#data cleaning with text preprocessing techniques\n",
    "#data cleaning first round\n",
    "#using regular expressions and string to clean\n",
    "\n",
    "import re\n",
    "import string"
   ]
  },
  {
   "cell_type": "code",
   "execution_count": 7,
   "metadata": {},
   "outputs": [],
   "source": [
    "#function for first round of data cleaning\n",
    "def clean_text_round1(text):\n",
    "    text = str(text).lower() #making all text lowercase\n",
    "    text = re.sub('\\[.*?\\]', '', text) #removing full stops and question marks\n",
    "    text = re.sub('[%s]' % re.escape(string.punctuation), '', text)\n",
    "    text = re.sub('\\w*\\d\\w*', '', text) #removing digits\n",
    "    return text\n",
    "\n",
    "round1 = lambda x: clean_text_round1(x)"
   ]
  },
  {
   "cell_type": "code",
   "execution_count": 8,
   "metadata": {},
   "outputs": [
    {
     "data": {
      "text/html": [
       "<div>\n",
       "<style scoped>\n",
       "    .dataframe tbody tr th:only-of-type {\n",
       "        vertical-align: middle;\n",
       "    }\n",
       "\n",
       "    .dataframe tbody tr th {\n",
       "        vertical-align: top;\n",
       "    }\n",
       "\n",
       "    .dataframe thead th {\n",
       "        text-align: right;\n",
       "    }\n",
       "</style>\n",
       "<table border=\"1\" class=\"dataframe\">\n",
       "  <thead>\n",
       "    <tr style=\"text-align: right;\">\n",
       "      <th></th>\n",
       "      <th>Body</th>\n",
       "    </tr>\n",
       "  </thead>\n",
       "  <tbody>\n",
       "    <tr>\n",
       "      <td>0</td>\n",
       "      <td>image copyright getty images\\non sunday mornin...</td>\n",
       "    </tr>\n",
       "    <tr>\n",
       "      <td>1</td>\n",
       "      <td>london reuters  “last flag flying” a comedydra...</td>\n",
       "    </tr>\n",
       "    <tr>\n",
       "      <td>2</td>\n",
       "      <td>the feud broke into public view last week when...</td>\n",
       "    </tr>\n",
       "    <tr>\n",
       "      <td>3</td>\n",
       "      <td>mexico city reuters  egypt’s cheiron holdings ...</td>\n",
       "    </tr>\n",
       "    <tr>\n",
       "      <td>4</td>\n",
       "      <td>country singer jason aldean who was performing...</td>\n",
       "    </tr>\n",
       "    <tr>\n",
       "      <td>...</td>\n",
       "      <td>...</td>\n",
       "    </tr>\n",
       "    <tr>\n",
       "      <td>4004</td>\n",
       "      <td>trends to watch\\n of readers think this story ...</td>\n",
       "    </tr>\n",
       "    <tr>\n",
       "      <td>4005</td>\n",
       "      <td>trump jr is soon to give a  speech for \\n of r...</td>\n",
       "    </tr>\n",
       "    <tr>\n",
       "      <td>4006</td>\n",
       "      <td>nan</td>\n",
       "    </tr>\n",
       "    <tr>\n",
       "      <td>4007</td>\n",
       "      <td>shanghai reuters  china said it plans to accep...</td>\n",
       "    </tr>\n",
       "    <tr>\n",
       "      <td>4008</td>\n",
       "      <td>vice president mike pence leaves nfl game beca...</td>\n",
       "    </tr>\n",
       "  </tbody>\n",
       "</table>\n",
       "<p>4009 rows × 1 columns</p>\n",
       "</div>"
      ],
      "text/plain": [
       "                                                   Body\n",
       "0     image copyright getty images\\non sunday mornin...\n",
       "1     london reuters  “last flag flying” a comedydra...\n",
       "2     the feud broke into public view last week when...\n",
       "3     mexico city reuters  egypt’s cheiron holdings ...\n",
       "4     country singer jason aldean who was performing...\n",
       "...                                                 ...\n",
       "4004  trends to watch\\n of readers think this story ...\n",
       "4005  trump jr is soon to give a  speech for \\n of r...\n",
       "4006                                                nan\n",
       "4007  shanghai reuters  china said it plans to accep...\n",
       "4008  vice president mike pence leaves nfl game beca...\n",
       "\n",
       "[4009 rows x 1 columns]"
      ]
     },
     "execution_count": 8,
     "metadata": {},
     "output_type": "execute_result"
    }
   ],
   "source": [
    "#Let's take a look at the updated text\n",
    "data_clean = pd.DataFrame(data.Body.apply(round1))\n",
    "data_clean"
   ]
  },
  {
   "cell_type": "code",
   "execution_count": 9,
   "metadata": {},
   "outputs": [],
   "source": [
    "#let's apply a second round of cleaning because some nonsensical text was ignored in the first clean\n",
    "def clean_text_round2(text):\n",
    "    text = re.sub('[''\"\"...]', '', text)\n",
    "    text = re.sub('\\n', '', text)\n",
    "    return text\n",
    "\n",
    "round2 = lambda x: clean_text_round2(x)"
   ]
  },
  {
   "cell_type": "code",
   "execution_count": 10,
   "metadata": {},
   "outputs": [
    {
     "data": {
      "text/plain": [
       "'image copyright getty imageson sunday morning donald trump went off on a twitter tirade against a member of his own partythis in itself isnt exactly huge news its far from the first time the president has turned his rhetorical cannons on his own ranksthis time however his attacks were particularly biting and personal he essentially called tennessee senator bob corker the chair of the powerful senate foreign relations committee a coward for not running for reelectionhe said mr corker begged for the presidents endorsement which he refused to give he wrongly claimed that mr corkers support of the iranian nuclear agreement was his only political accomplishmentunlike some of his colleagues mr corker  free from having to worry about his immediate political future  didnt hold his tongueskip twitter post by senbobcorker its a shame the white house has become an adult day care center someone obviously missed their shift this morning — senator bob corker senbobcorker october   reportthat wasnt the end of it though he then spoke with the new york times and really let the president have it here are four choice quotes from the tennessee senators interview with the times and why they are particularly damningi dont know why the president tweets out things that are not true you know he does it everyone knows he does it but he doesyou cant really sugarcoat this one mr corker is flatout saying the president is a liar  and everyone knows itthe senator in particular is challenging mr trumps insistence that he unsuccessfully pleaded for his endorsement but the accusation is much broadermr corker and the president used to be something akin to allies the tennessean was on mr trumps short list for vicepresident and secretary of stateimage copyright getty images image caption bob corker at trump campaign rally in july those days are seemingly very much over now  and its not like mr corker is going anywhere anytime soon although hes not running for reelection hell be in the senate chairing a powerful committee until january the presidents margin for success in that chamber is razorthin if democrats can continue to stand together in opposition he can afford to lose only two votes out of  republican senators thats why healthcare reform collapsed in july  and it could be bad news for tax effortsfrom here on out mr corker isnt going to do the president any favourslook except for a few people the vast majority of our caucus understands what were dealing with herefrustration in congress has been growing over what republicans feel has been the presidents inability to focus on advancing their agenda getting a sharply divided party to come together on plans to repeal obamacare reform taxes or boost infrastructure spending is challenging enough doing so when the president stirs up unrelated controversies on a seemingly daily basis makes things all the harderone of the presidents gifts has been his ability to shake off negative stories by quickly moving on to a different subject that worked brilliantly during his presidential campaign but its less effective during the legislative slow grindimage copyright getty images image caption corker at the confirmation hearing for secretary of state rex tillersonfor months republicans in congress have been grumbling about this in the background and among themselves occasionally someone like mr mcconnell will lament that the president doesnt understand how the senate worksmr corker has now stated it loud and clear and whats more he says almost everyone agrees with him theyve kept silent until now because they still hope to pass conservative legislation that the president can sign or fear mr trumps legions will back a primary challenge next year or stay home during the general electionif that calculus ever changes  if it becomes riskier to stay silent than speak out  mr trump will be in real troublea lot of people think that there is some kind of good cop bad cop act underway but thats just not truetime and again mr trump has appeared to undercut secretary of state rex tillerson and others in his administration who are attempting to use soft diplomacy to deal with a range of international crisesthe war against the taliban in afghanistan irans compliance with the multinational nuclear agreement the ongoing dispute between qatar and its persian gulf neighbours the unrest in venezuela and most recently north koreas continued ballistic missile tests have all been the target of the presidents offhand remarks and twitter invectivesome administration defenders have said this is all a part of mr trumps strategy  an updated version of the nixonera madman theory in which the president forces adversaries to give way because they fear an unpredictable us leaders actionsmr corker isnt buying it theres no strategy he says just the possibility of chaos  which he hopes mr trumps senior advisers will be able to avoidi know for a fact that every single day at the white house its a situation of trying to contain himtheres now a growing collection of john kelly facepalm photos that serve as a testament to the chiefofstaffs reported frustration at dealing with the presidentmr trump goes offscript to praise torchbearing white nationalists at a rally in charlottesville and mr kelly is captured closing his eyes and rubbing the arch of his nose as if attempting to stave off a migraineimage copyright reuters image caption white house chief of staff john kelly looks on as us president donald trump speaks at a campaign rallythe president calls north korean leaders criminals in a speech to the united nations and mr kelly straightup buries his face in his handsthe white house communications team is often left scrambling to try to explain or reframe an indelicate presidential joke or remark that directly contradicts what was until then the official administration lineeven though mr kelly has brought some discipline to the west wing staff the president still marches to the beat of his own drum  and continues to have unfettered access to his phones twitter appbob corker is only the latest person  politician journalist sports star or celebrity  to feel the mercurial presidents uncontainable ire'"
      ]
     },
     "execution_count": 10,
     "metadata": {},
     "output_type": "execute_result"
    }
   ],
   "source": [
    "#let's take a look at the updated text again\n",
    "data_clean = pd.DataFrame(data_clean.Body.apply(round2))\n",
    "data_clean['Body'][0]"
   ]
  },
  {
   "cell_type": "code",
   "execution_count": 11,
   "metadata": {},
   "outputs": [
    {
     "data": {
      "text/plain": [
       "'image copyright getty imageson sunday morning donald trump went off on a twitter tirade against a member of his own partythis in itself isnt exactly huge news its far from the first time the president has turned his rhetorical cannons on his own ranksthis time however his attacks were particularly biting and personal he essentially called tennessee senator bob corker the chair of the powerful senate foreign relations committee a coward for not running for reelectionhe said mr corker begged for the presidents endorsement which he refused to give he wrongly claimed that mr corkers support of the iranian nuclear agreement was his only political accomplishmentunlike some of his colleagues mr corker  free from having to worry about his immediate political future  didnt hold his tongueskip twitter post by senbobcorker its a shame the white house has become an adult day care center someone obviously missed their shift this morning — senator bob corker senbobcorker october   reportthat wasnt the end of it though he then spoke with the new york times and really let the president have it here are four choice quotes from the tennessee senators interview with the times and why they are particularly damningi dont know why the president tweets out things that are not true you know he does it everyone knows he does it but he doesyou cant really sugarcoat this one mr corker is flatout saying the president is a liar  and everyone knows itthe senator in particular is challenging mr trumps insistence that he unsuccessfully pleaded for his endorsement but the accusation is much broadermr corker and the president used to be something akin to allies the tennessean was on mr trumps short list for vicepresident and secretary of stateimage copyright getty images image caption bob corker at trump campaign rally in july those days are seemingly very much over now  and its not like mr corker is going anywhere anytime soon although hes not running for reelection hell be in the senate chairing a powerful committee until january the presidents margin for success in that chamber is razorthin if democrats can continue to stand together in opposition he can afford to lose only two votes out of  republican senators thats why healthcare reform collapsed in july  and it could be bad news for tax effortsfrom here on out mr corker isnt going to do the president any favourslook except for a few people the vast majority of our caucus understands what were dealing with herefrustration in congress has been growing over what republicans feel has been the presidents inability to focus on advancing their agenda getting a sharply divided party to come together on plans to repeal obamacare reform taxes or boost infrastructure spending is challenging enough doing so when the president stirs up unrelated controversies on a seemingly daily basis makes things all the harderone of the presidents gifts has been his ability to shake off negative stories by quickly moving on to a different subject that worked brilliantly during his presidential campaign but its less effective during the legislative slow grindimage copyright getty images image caption corker at the confirmation hearing for secretary of state rex tillersonfor months republicans in congress have been grumbling about this in the background and among themselves occasionally someone like mr mcconnell will lament that the president doesnt understand how the senate worksmr corker has now stated it loud and clear and whats more he says almost everyone agrees with him theyve kept silent until now because they still hope to pass conservative legislation that the president can sign or fear mr trumps legions will back a primary challenge next year or stay home during the general electionif that calculus ever changes  if it becomes riskier to stay silent than speak out  mr trump will be in real troublea lot of people think that there is some kind of good cop bad cop act underway but thats just not truetime and again mr trump has appeared to undercut secretary of state rex tillerson and others in his administration who are attempting to use soft diplomacy to deal with a range of international crisesthe war against the taliban in afghanistan irans compliance with the multinational nuclear agreement the ongoing dispute between qatar and its persian gulf neighbours the unrest in venezuela and most recently north koreas continued ballistic missile tests have all been the target of the presidents offhand remarks and twitter invectivesome administration defenders have said this is all a part of mr trumps strategy  an updated version of the nixonera madman theory in which the president forces adversaries to give way because they fear an unpredictable us leaders actionsmr corker isnt buying it theres no strategy he says just the possibility of chaos  which he hopes mr trumps senior advisers will be able to avoidi know for a fact that every single day at the white house its a situation of trying to contain himtheres now a growing collection of john kelly facepalm photos that serve as a testament to the chiefofstaffs reported frustration at dealing with the presidentmr trump goes offscript to praise torchbearing white nationalists at a rally in charlottesville and mr kelly is captured closing his eyes and rubbing the arch of his nose as if attempting to stave off a migraineimage copyright reuters image caption white house chief of staff john kelly looks on as us president donald trump speaks at a campaign rallythe president calls north korean leaders criminals in a speech to the united nations and mr kelly straightup buries his face in his handsthe white house communications team is often left scrambling to try to explain or reframe an indelicate presidential joke or remark that directly contradicts what was until then the official administration lineeven though mr kelly has brought some discipline to the west wing staff the president still marches to the beat of his own drum  and continues to have unfettered access to his phones twitter appbob corker is only the latest person  politician journalist sports star or celebrity  to feel the mercurial presidents uncontainable ire'"
      ]
     },
     "execution_count": 11,
     "metadata": {},
     "output_type": "execute_result"
    }
   ],
   "source": [
    "#Concatenating our cleaned data to our corpus\n",
    "data['clean_body'] = data_clean\n",
    "data['clean_body'][0]"
   ]
  },
  {
   "cell_type": "code",
   "execution_count": 12,
   "metadata": {},
   "outputs": [
    {
     "data": {
      "text/html": [
       "<div>\n",
       "<style scoped>\n",
       "    .dataframe tbody tr th:only-of-type {\n",
       "        vertical-align: middle;\n",
       "    }\n",
       "\n",
       "    .dataframe tbody tr th {\n",
       "        vertical-align: top;\n",
       "    }\n",
       "\n",
       "    .dataframe thead th {\n",
       "        text-align: right;\n",
       "    }\n",
       "</style>\n",
       "<table border=\"1\" class=\"dataframe\">\n",
       "  <thead>\n",
       "    <tr style=\"text-align: right;\">\n",
       "      <th></th>\n",
       "      <th>URLs</th>\n",
       "      <th>Headline</th>\n",
       "      <th>Body</th>\n",
       "      <th>Label</th>\n",
       "      <th>clean_body</th>\n",
       "    </tr>\n",
       "  </thead>\n",
       "  <tbody>\n",
       "    <tr>\n",
       "      <td>0</td>\n",
       "      <td>http://www.bbc.com/news/world-us-canada-414191...</td>\n",
       "      <td>Four ways Bob Corker skewered Donald Trump</td>\n",
       "      <td>Image copyright Getty Images\\nOn Sunday mornin...</td>\n",
       "      <td>1</td>\n",
       "      <td>image copyright getty imageson sunday morning ...</td>\n",
       "    </tr>\n",
       "    <tr>\n",
       "      <td>1</td>\n",
       "      <td>https://www.reuters.com/article/us-filmfestiva...</td>\n",
       "      <td>Linklater's war veteran comedy speaks to moder...</td>\n",
       "      <td>LONDON (Reuters) - “Last Flag Flying”, a comed...</td>\n",
       "      <td>1</td>\n",
       "      <td>london reuters  “last flag flying” a comedydra...</td>\n",
       "    </tr>\n",
       "    <tr>\n",
       "      <td>2</td>\n",
       "      <td>https://www.nytimes.com/2017/10/09/us/politics...</td>\n",
       "      <td>Trump’s Fight With Corker Jeopardizes His Legi...</td>\n",
       "      <td>The feud broke into public view last week when...</td>\n",
       "      <td>1</td>\n",
       "      <td>the feud broke into public view last week when...</td>\n",
       "    </tr>\n",
       "    <tr>\n",
       "      <td>3</td>\n",
       "      <td>https://www.reuters.com/article/us-mexico-oil-...</td>\n",
       "      <td>Egypt's Cheiron wins tie-up with Pemex for Mex...</td>\n",
       "      <td>MEXICO CITY (Reuters) - Egypt’s Cheiron Holdin...</td>\n",
       "      <td>1</td>\n",
       "      <td>mexico city reuters  egypt’s cheiron holdings ...</td>\n",
       "    </tr>\n",
       "    <tr>\n",
       "      <td>4</td>\n",
       "      <td>http://www.cnn.com/videos/cnnmoney/2017/10/08/...</td>\n",
       "      <td>Jason Aldean opens 'SNL' with Vegas tribute</td>\n",
       "      <td>Country singer Jason Aldean, who was performin...</td>\n",
       "      <td>1</td>\n",
       "      <td>country singer jason aldean who was performing...</td>\n",
       "    </tr>\n",
       "    <tr>\n",
       "      <td>5</td>\n",
       "      <td>http://beforeitsnews.com/sports/2017/09/jetnat...</td>\n",
       "      <td>JetNation FanDuel League; Week 4</td>\n",
       "      <td>JetNation FanDuel League; Week 4\\n% of readers...</td>\n",
       "      <td>0</td>\n",
       "      <td>jetnation fanduel league week  of readers thin...</td>\n",
       "    </tr>\n",
       "    <tr>\n",
       "      <td>6</td>\n",
       "      <td>https://www.nytimes.com/2017/10/10/us/politics...</td>\n",
       "      <td>Kansas Tried a Tax Plan Similar to Trump’s. It...</td>\n",
       "      <td>In 2012, Kansas lawmakers, led by Gov. Sam Bro...</td>\n",
       "      <td>1</td>\n",
       "      <td>in  kansas lawmakers led by gov sam brownback ...</td>\n",
       "    </tr>\n",
       "    <tr>\n",
       "      <td>7</td>\n",
       "      <td>https://www.reuters.com/article/us-india-cenba...</td>\n",
       "      <td>India RBI chief: growth important, but not at ...</td>\n",
       "      <td>The Reserve Bank of India (RBI) Governor Urjit...</td>\n",
       "      <td>1</td>\n",
       "      <td>the reserve bank of india rbi governor urjit p...</td>\n",
       "    </tr>\n",
       "    <tr>\n",
       "      <td>8</td>\n",
       "      <td>https://www.reuters.com/article/us-climatechan...</td>\n",
       "      <td>EPA chief to sign rule on Clean Power Plan exi...</td>\n",
       "      <td>Scott Pruitt, Administrator of the U.S. Enviro...</td>\n",
       "      <td>1</td>\n",
       "      <td>scott pruitt administrator of the us environme...</td>\n",
       "    </tr>\n",
       "    <tr>\n",
       "      <td>9</td>\n",
       "      <td>https://www.reuters.com/article/us-air-berlin-...</td>\n",
       "      <td>Talks on sale of Air Berlin planes to easyJet ...</td>\n",
       "      <td>FILE PHOTO - An Air Berlin sign is seen at an ...</td>\n",
       "      <td>1</td>\n",
       "      <td>file photo  an air berlin sign is seen at an a...</td>\n",
       "    </tr>\n",
       "  </tbody>\n",
       "</table>\n",
       "</div>"
      ],
      "text/plain": [
       "                                                URLs  \\\n",
       "0  http://www.bbc.com/news/world-us-canada-414191...   \n",
       "1  https://www.reuters.com/article/us-filmfestiva...   \n",
       "2  https://www.nytimes.com/2017/10/09/us/politics...   \n",
       "3  https://www.reuters.com/article/us-mexico-oil-...   \n",
       "4  http://www.cnn.com/videos/cnnmoney/2017/10/08/...   \n",
       "5  http://beforeitsnews.com/sports/2017/09/jetnat...   \n",
       "6  https://www.nytimes.com/2017/10/10/us/politics...   \n",
       "7  https://www.reuters.com/article/us-india-cenba...   \n",
       "8  https://www.reuters.com/article/us-climatechan...   \n",
       "9  https://www.reuters.com/article/us-air-berlin-...   \n",
       "\n",
       "                                            Headline  \\\n",
       "0         Four ways Bob Corker skewered Donald Trump   \n",
       "1  Linklater's war veteran comedy speaks to moder...   \n",
       "2  Trump’s Fight With Corker Jeopardizes His Legi...   \n",
       "3  Egypt's Cheiron wins tie-up with Pemex for Mex...   \n",
       "4        Jason Aldean opens 'SNL' with Vegas tribute   \n",
       "5                   JetNation FanDuel League; Week 4   \n",
       "6  Kansas Tried a Tax Plan Similar to Trump’s. It...   \n",
       "7  India RBI chief: growth important, but not at ...   \n",
       "8  EPA chief to sign rule on Clean Power Plan exi...   \n",
       "9  Talks on sale of Air Berlin planes to easyJet ...   \n",
       "\n",
       "                                                Body  Label  \\\n",
       "0  Image copyright Getty Images\\nOn Sunday mornin...      1   \n",
       "1  LONDON (Reuters) - “Last Flag Flying”, a comed...      1   \n",
       "2  The feud broke into public view last week when...      1   \n",
       "3  MEXICO CITY (Reuters) - Egypt’s Cheiron Holdin...      1   \n",
       "4  Country singer Jason Aldean, who was performin...      1   \n",
       "5  JetNation FanDuel League; Week 4\\n% of readers...      0   \n",
       "6  In 2012, Kansas lawmakers, led by Gov. Sam Bro...      1   \n",
       "7  The Reserve Bank of India (RBI) Governor Urjit...      1   \n",
       "8  Scott Pruitt, Administrator of the U.S. Enviro...      1   \n",
       "9  FILE PHOTO - An Air Berlin sign is seen at an ...      1   \n",
       "\n",
       "                                          clean_body  \n",
       "0  image copyright getty imageson sunday morning ...  \n",
       "1  london reuters  “last flag flying” a comedydra...  \n",
       "2  the feud broke into public view last week when...  \n",
       "3  mexico city reuters  egypt’s cheiron holdings ...  \n",
       "4  country singer jason aldean who was performing...  \n",
       "5  jetnation fanduel league week  of readers thin...  \n",
       "6  in  kansas lawmakers led by gov sam brownback ...  \n",
       "7  the reserve bank of india rbi governor urjit p...  \n",
       "8  scott pruitt administrator of the us environme...  \n",
       "9  file photo  an air berlin sign is seen at an a...  "
      ]
     },
     "execution_count": 12,
     "metadata": {},
     "output_type": "execute_result"
    }
   ],
   "source": [
    "data[:10]"
   ]
  },
  {
   "cell_type": "code",
   "execution_count": 48,
   "metadata": {},
   "outputs": [],
   "source": [
    "import nltk\n",
    "from nltk.corpus import stopwords\n",
    "\n",
    "sw = stopwords.words('english')\n",
    "data['clean_body'] = data['clean_body'].apply(lambda x: \" \".join(x for x in x.split() if x not in sw))\n",
    "\n",
    "#deleting sparse words\n",
    "sil = pd.Series(\" \".join(data['clean_body']).split()).value_counts()[-1000:]\n",
    "data['clean_body'] = data['clean_body'].apply(lambda x: \" \".join(x for x in x.split() if x not in sil))"
   ]
  },
  {
   "cell_type": "code",
   "execution_count": null,
   "metadata": {},
   "outputs": [],
   "source": [
    "#word lemmatization\n",
    "#from textblob import Word\n",
    "#data['clean_body'] = data['clean_body'].apply(lambda x: \" \".join([Word(word).lemmatize() for word in x.split()]))"
   ]
  },
  {
   "cell_type": "code",
   "execution_count": 49,
   "metadata": {},
   "outputs": [],
   "source": [
    "real_text = ' '.join(data[data['Label'] == 1]['clean_body'])\n",
    "fake_text = ' '.join(data[data['Label'] == 0]['clean_body'])\n",
    "fake_words = [word for word in nltk.tokenize.word_tokenize(fake_text) if word not in stopwords.words('english') and len(word) > 3]\n",
    "real_words = [word for word in nltk.tokenize.word_tokenize(real_text) if word not in stopwords.words('english') and len(word) > 3]\n",
    "\n",
    "common_fake = nltk.FreqDist(fake_words).most_common(25)\n",
    "common_real =nltk.FreqDist(real_words).most_common(25)"
   ]
  },
  {
   "cell_type": "code",
   "execution_count": 50,
   "metadata": {},
   "outputs": [
    {
     "data": {
      "text/plain": [
       "[('game', 1743),\n",
       " ('week', 1514),\n",
       " ('would', 1479),\n",
       " ('also', 1412),\n",
       " ('first', 1399),\n",
       " ('like', 1382),\n",
       " ('season', 1284),\n",
       " ('time', 1091),\n",
       " ('said', 1055),\n",
       " ('last', 1038),\n",
       " ('yards', 976),\n",
       " ('content', 965),\n",
       " ('people', 963),\n",
       " ('could', 960),\n",
       " ('going', 957),\n",
       " ('even', 938),\n",
       " ('back', 927),\n",
       " ('ravens', 885),\n",
       " ('team', 879),\n",
       " ('play', 836),\n",
       " ('think', 819),\n",
       " ('state', 811),\n",
       " ('many', 796),\n",
       " ('fact', 766),\n",
       " ('make', 760)]"
      ]
     },
     "execution_count": 50,
     "metadata": {},
     "output_type": "execute_result"
    }
   ],
   "source": [
    "common_fake"
   ]
  },
  {
   "cell_type": "code",
   "execution_count": 51,
   "metadata": {},
   "outputs": [
    {
     "data": {
      "text/plain": [
       "[('said', 7173),\n",
       " ('would', 2578),\n",
       " ('also', 1932),\n",
       " ('trump', 1803),\n",
       " ('people', 1788),\n",
       " ('world', 1551),\n",
       " ('president', 1528),\n",
       " ('first', 1509),\n",
       " ('like', 1381),\n",
       " ('last', 1373),\n",
       " ('could', 1355),\n",
       " ('time', 1347),\n",
       " ('caption', 1264),\n",
       " ('told', 1246),\n",
       " ('year', 1168),\n",
       " ('years', 1124),\n",
       " ('photos', 1061),\n",
       " ('government', 1043),\n",
       " ('united', 986),\n",
       " ('reuters', 970),\n",
       " ('york', 967),\n",
       " ('october', 953),\n",
       " ('continue', 951),\n",
       " ('states', 936),\n",
       " ('many', 929)]"
      ]
     },
     "execution_count": 51,
     "metadata": {},
     "output_type": "execute_result"
    }
   ],
   "source": [
    "common_real"
   ]
  },
  {
   "cell_type": "code",
   "execution_count": 90,
   "metadata": {},
   "outputs": [
    {
     "data": {
      "image/png": "[encoded data removed]",
      "text/plain": [
       "<Figure size 432x288 with 1 Axes>"
      ]
     },
     "metadata": {
      "needs_background": "light"
     },
     "output_type": "display_data"
    }
   ],
   "source": [
    "from wordcloud import WordCloud, STOPWORDS, ImageColorGenerator\n",
    "import matplotlib.pyplot as plt\n",
    "%matplotlib inline\n",
    "\n",
    "#creating the wordcloud\n",
    "cloud_text = \" \".join(article for article in data.clean_body)\n",
    "\n",
    "#Create cloud image\n",
    "wordcloud = WordCloud(background_color='white').generate(cloud_text)\n",
    "\n",
    "#displaying the wordcloud\n",
    "plt.imshow(wordcloud, interpolation='bilinear')\n",
    "plt.axis('off')\n",
    "plt.show()"
   ]
  },
  {
   "cell_type": "code",
   "execution_count": 59,
   "metadata": {},
   "outputs": [
    {
     "data": {
      "text/html": [
       "<div>\n",
       "<style scoped>\n",
       "    .dataframe tbody tr th:only-of-type {\n",
       "        vertical-align: middle;\n",
       "    }\n",
       "\n",
       "    .dataframe tbody tr th {\n",
       "        vertical-align: top;\n",
       "    }\n",
       "\n",
       "    .dataframe thead th {\n",
       "        text-align: right;\n",
       "    }\n",
       "</style>\n",
       "<table border=\"1\" class=\"dataframe\">\n",
       "  <thead>\n",
       "    <tr style=\"text-align: right;\">\n",
       "      <th></th>\n",
       "      <th>URLs</th>\n",
       "      <th>Headline</th>\n",
       "      <th>Body</th>\n",
       "      <th>Label</th>\n",
       "      <th>clean_body</th>\n",
       "      <th>polarity</th>\n",
       "      <th>subjectivity</th>\n",
       "    </tr>\n",
       "  </thead>\n",
       "  <tbody>\n",
       "    <tr>\n",
       "      <td>0</td>\n",
       "      <td>http://www.bbc.com/news/world-us-canada-414191...</td>\n",
       "      <td>Four ways Bob Corker skewered Donald Trump</td>\n",
       "      <td>Image copyright Getty Images\\nOn Sunday mornin...</td>\n",
       "      <td>1</td>\n",
       "      <td>image copyright getty imageson sunday morning ...</td>\n",
       "      <td>0.097076</td>\n",
       "      <td>0.417664</td>\n",
       "    </tr>\n",
       "    <tr>\n",
       "      <td>1</td>\n",
       "      <td>https://www.reuters.com/article/us-filmfestiva...</td>\n",
       "      <td>Linklater's war veteran comedy speaks to moder...</td>\n",
       "      <td>LONDON (Reuters) - “Last Flag Flying”, a comed...</td>\n",
       "      <td>1</td>\n",
       "      <td>london reuters “last flag flying” comedydrama ...</td>\n",
       "      <td>0.087460</td>\n",
       "      <td>0.382090</td>\n",
       "    </tr>\n",
       "    <tr>\n",
       "      <td>2</td>\n",
       "      <td>https://www.nytimes.com/2017/10/09/us/politics...</td>\n",
       "      <td>Trump’s Fight With Corker Jeopardizes His Legi...</td>\n",
       "      <td>The feud broke into public view last week when...</td>\n",
       "      <td>1</td>\n",
       "      <td>feud broke public view last week mr corker sai...</td>\n",
       "      <td>0.048445</td>\n",
       "      <td>0.341780</td>\n",
       "    </tr>\n",
       "    <tr>\n",
       "      <td>3</td>\n",
       "      <td>https://www.reuters.com/article/us-mexico-oil-...</td>\n",
       "      <td>Egypt's Cheiron wins tie-up with Pemex for Mex...</td>\n",
       "      <td>MEXICO CITY (Reuters) - Egypt’s Cheiron Holdin...</td>\n",
       "      <td>1</td>\n",
       "      <td>mexico city reuters egypt’s cheiron holdings l...</td>\n",
       "      <td>-0.032738</td>\n",
       "      <td>0.273810</td>\n",
       "    </tr>\n",
       "    <tr>\n",
       "      <td>4</td>\n",
       "      <td>http://www.cnn.com/videos/cnnmoney/2017/10/08/...</td>\n",
       "      <td>Jason Aldean opens 'SNL' with Vegas tribute</td>\n",
       "      <td>Country singer Jason Aldean, who was performin...</td>\n",
       "      <td>1</td>\n",
       "      <td>country singer jason aldean performing las veg...</td>\n",
       "      <td>-0.115909</td>\n",
       "      <td>0.500000</td>\n",
       "    </tr>\n",
       "    <tr>\n",
       "      <td>5</td>\n",
       "      <td>http://beforeitsnews.com/sports/2017/09/jetnat...</td>\n",
       "      <td>JetNation FanDuel League; Week 4</td>\n",
       "      <td>JetNation FanDuel League; Week 4\\n% of readers...</td>\n",
       "      <td>0</td>\n",
       "      <td>jetnation fanduel league week readers think st...</td>\n",
       "      <td>0.000000</td>\n",
       "      <td>0.337500</td>\n",
       "    </tr>\n",
       "    <tr>\n",
       "      <td>6</td>\n",
       "      <td>https://www.nytimes.com/2017/10/10/us/politics...</td>\n",
       "      <td>Kansas Tried a Tax Plan Similar to Trump’s. It...</td>\n",
       "      <td>In 2012, Kansas lawmakers, led by Gov. Sam Bro...</td>\n",
       "      <td>1</td>\n",
       "      <td>kansas lawmakers led gov sam brownback republi...</td>\n",
       "      <td>0.093799</td>\n",
       "      <td>0.462284</td>\n",
       "    </tr>\n",
       "    <tr>\n",
       "      <td>7</td>\n",
       "      <td>https://www.reuters.com/article/us-india-cenba...</td>\n",
       "      <td>India RBI chief: growth important, but not at ...</td>\n",
       "      <td>The Reserve Bank of India (RBI) Governor Urjit...</td>\n",
       "      <td>1</td>\n",
       "      <td>reserve bank india rbi governor urjit patel at...</td>\n",
       "      <td>0.044400</td>\n",
       "      <td>0.262600</td>\n",
       "    </tr>\n",
       "    <tr>\n",
       "      <td>8</td>\n",
       "      <td>https://www.reuters.com/article/us-climatechan...</td>\n",
       "      <td>EPA chief to sign rule on Clean Power Plan exi...</td>\n",
       "      <td>Scott Pruitt, Administrator of the U.S. Enviro...</td>\n",
       "      <td>1</td>\n",
       "      <td>scott pruitt administrator us environmental pr...</td>\n",
       "      <td>0.117235</td>\n",
       "      <td>0.422727</td>\n",
       "    </tr>\n",
       "    <tr>\n",
       "      <td>9</td>\n",
       "      <td>https://www.reuters.com/article/us-air-berlin-...</td>\n",
       "      <td>Talks on sale of Air Berlin planes to easyJet ...</td>\n",
       "      <td>FILE PHOTO - An Air Berlin sign is seen at an ...</td>\n",
       "      <td>1</td>\n",
       "      <td>file photo air berlin sign seen air berlin sto...</td>\n",
       "      <td>0.001199</td>\n",
       "      <td>0.321591</td>\n",
       "    </tr>\n",
       "    <tr>\n",
       "      <td>10</td>\n",
       "      <td>https://www.activistpost.com/2017/09/u-s-presi...</td>\n",
       "      <td>U.S. President Donald Trump Quietly Signs Law ...</td>\n",
       "      <td>By Aaron Kesel\\nAs former White House chief of...</td>\n",
       "      <td>0</td>\n",
       "      <td>aaron keselas former white house chief staff c...</td>\n",
       "      <td>0.095385</td>\n",
       "      <td>0.474382</td>\n",
       "    </tr>\n",
       "    <tr>\n",
       "      <td>11</td>\n",
       "      <td>http://beforeitsnews.com/sports/2017/10/2017-f...</td>\n",
       "      <td>2017 Fantasy Football Team Defense Rankings - ...</td>\n",
       "      <td>2017 Fantasy Football Team Defense Rankings – ...</td>\n",
       "      <td>0</td>\n",
       "      <td>fantasy football team defense rankings – week ...</td>\n",
       "      <td>0.052273</td>\n",
       "      <td>0.415909</td>\n",
       "    </tr>\n",
       "    <tr>\n",
       "      <td>12</td>\n",
       "      <td>http://beforeitsnews.com/sports/2017/09/just-s...</td>\n",
       "      <td>Just Shut Up &amp; Play Some Damn Baseball!!</td>\n",
       "      <td>Just Shut Up &amp; Play Some Damn Baseball!!\\n(Bef...</td>\n",
       "      <td>0</td>\n",
       "      <td>shut play damn baseballbefore newslook plain s...</td>\n",
       "      <td>0.083017</td>\n",
       "      <td>0.453630</td>\n",
       "    </tr>\n",
       "    <tr>\n",
       "      <td>13</td>\n",
       "      <td>https://www.reuters.com/article/us-deloitte-cy...</td>\n",
       "      <td>Deloitte cyber attack affected up to 350 clien...</td>\n",
       "      <td>FILE PHOTO: The Deloitte Company logo is seen ...</td>\n",
       "      <td>1</td>\n",
       "      <td>file photo deloitte company logo seen commerci...</td>\n",
       "      <td>0.006368</td>\n",
       "      <td>0.334791</td>\n",
       "    </tr>\n",
       "    <tr>\n",
       "      <td>14</td>\n",
       "      <td>http://beforeitsnews.com/sports/2017/10/107-ch...</td>\n",
       "      <td>10/7: Chuck Axed; HBD Brickyard, Adam, Moonlig...</td>\n",
       "      <td>A Potato Battery Can Light up a Room for Over ...</td>\n",
       "      <td>0</td>\n",
       "      <td>potato battery light room month diy system use...</td>\n",
       "      <td>0.175000</td>\n",
       "      <td>0.550000</td>\n",
       "    </tr>\n",
       "    <tr>\n",
       "      <td>15</td>\n",
       "      <td>https://www.nytimes.com/2017/10/04/us/las-vega...</td>\n",
       "      <td>Gunman’s Girlfriend Said She Didn’t Know He Pl...</td>\n",
       "      <td>• The authorities found evidence that the gunm...</td>\n",
       "      <td>1</td>\n",
       "      <td>• authorities found evidence gunman stephen pa...</td>\n",
       "      <td>0.040727</td>\n",
       "      <td>0.433099</td>\n",
       "    </tr>\n",
       "    <tr>\n",
       "      <td>16</td>\n",
       "      <td>https://www.nytimes.com/2017/10/04/us/marilou-...</td>\n",
       "      <td>Marilou Danley, Gunman’s Girlfriend, Says She ...</td>\n",
       "      <td>The statement, which was read by her lawyer, M...</td>\n",
       "      <td>1</td>\n",
       "      <td>statement read lawyer matthew lombard came day...</td>\n",
       "      <td>0.091154</td>\n",
       "      <td>0.388984</td>\n",
       "    </tr>\n",
       "    <tr>\n",
       "      <td>17</td>\n",
       "      <td>https://www.nytimes.com/video/us/politics/1000...</td>\n",
       "      <td>Trump’s Immigration Rhetoric Echoes a Bitter F...</td>\n",
       "      <td>In bold documentary style, Retro Report looks ...</td>\n",
       "      <td>1</td>\n",
       "      <td>bold documentary style retro report looks back...</td>\n",
       "      <td>0.161742</td>\n",
       "      <td>0.388745</td>\n",
       "    </tr>\n",
       "    <tr>\n",
       "      <td>18</td>\n",
       "      <td>http://beforeitsnews.com/u-s-politics/2017/10/...</td>\n",
       "      <td>Trump Bemoans ‘Little Appreciation’ As San Jua...</td>\n",
       "      <td>Red Flag Warning: These California Wildfires A...</td>\n",
       "      <td>0</td>\n",
       "      <td>red flag warning california wildfires ‘among d...</td>\n",
       "      <td>-0.333333</td>\n",
       "      <td>0.400000</td>\n",
       "    </tr>\n",
       "  </tbody>\n",
       "</table>\n",
       "</div>"
      ],
      "text/plain": [
       "                                                 URLs  \\\n",
       "0   http://www.bbc.com/news/world-us-canada-414191...   \n",
       "1   https://www.reuters.com/article/us-filmfestiva...   \n",
       "2   https://www.nytimes.com/2017/10/09/us/politics...   \n",
       "3   https://www.reuters.com/article/us-mexico-oil-...   \n",
       "4   http://www.cnn.com/videos/cnnmoney/2017/10/08/...   \n",
       "5   http://beforeitsnews.com/sports/2017/09/jetnat...   \n",
       "6   https://www.nytimes.com/2017/10/10/us/politics...   \n",
       "7   https://www.reuters.com/article/us-india-cenba...   \n",
       "8   https://www.reuters.com/article/us-climatechan...   \n",
       "9   https://www.reuters.com/article/us-air-berlin-...   \n",
       "10  https://www.activistpost.com/2017/09/u-s-presi...   \n",
       "11  http://beforeitsnews.com/sports/2017/10/2017-f...   \n",
       "12  http://beforeitsnews.com/sports/2017/09/just-s...   \n",
       "13  https://www.reuters.com/article/us-deloitte-cy...   \n",
       "14  http://beforeitsnews.com/sports/2017/10/107-ch...   \n",
       "15  https://www.nytimes.com/2017/10/04/us/las-vega...   \n",
       "16  https://www.nytimes.com/2017/10/04/us/marilou-...   \n",
       "17  https://www.nytimes.com/video/us/politics/1000...   \n",
       "18  http://beforeitsnews.com/u-s-politics/2017/10/...   \n",
       "\n",
       "                                             Headline  \\\n",
       "0          Four ways Bob Corker skewered Donald Trump   \n",
       "1   Linklater's war veteran comedy speaks to moder...   \n",
       "2   Trump’s Fight With Corker Jeopardizes His Legi...   \n",
       "3   Egypt's Cheiron wins tie-up with Pemex for Mex...   \n",
       "4         Jason Aldean opens 'SNL' with Vegas tribute   \n",
       "5                    JetNation FanDuel League; Week 4   \n",
       "6   Kansas Tried a Tax Plan Similar to Trump’s. It...   \n",
       "7   India RBI chief: growth important, but not at ...   \n",
       "8   EPA chief to sign rule on Clean Power Plan exi...   \n",
       "9   Talks on sale of Air Berlin planes to easyJet ...   \n",
       "10  U.S. President Donald Trump Quietly Signs Law ...   \n",
       "11  2017 Fantasy Football Team Defense Rankings - ...   \n",
       "12           Just Shut Up & Play Some Damn Baseball!!   \n",
       "13  Deloitte cyber attack affected up to 350 clien...   \n",
       "14  10/7: Chuck Axed; HBD Brickyard, Adam, Moonlig...   \n",
       "15  Gunman’s Girlfriend Said She Didn’t Know He Pl...   \n",
       "16  Marilou Danley, Gunman’s Girlfriend, Says She ...   \n",
       "17  Trump’s Immigration Rhetoric Echoes a Bitter F...   \n",
       "18  Trump Bemoans ‘Little Appreciation’ As San Jua...   \n",
       "\n",
       "                                                 Body  Label  \\\n",
       "0   Image copyright Getty Images\\nOn Sunday mornin...      1   \n",
       "1   LONDON (Reuters) - “Last Flag Flying”, a comed...      1   \n",
       "2   The feud broke into public view last week when...      1   \n",
       "3   MEXICO CITY (Reuters) - Egypt’s Cheiron Holdin...      1   \n",
       "4   Country singer Jason Aldean, who was performin...      1   \n",
       "5   JetNation FanDuel League; Week 4\\n% of readers...      0   \n",
       "6   In 2012, Kansas lawmakers, led by Gov. Sam Bro...      1   \n",
       "7   The Reserve Bank of India (RBI) Governor Urjit...      1   \n",
       "8   Scott Pruitt, Administrator of the U.S. Enviro...      1   \n",
       "9   FILE PHOTO - An Air Berlin sign is seen at an ...      1   \n",
       "10  By Aaron Kesel\\nAs former White House chief of...      0   \n",
       "11  2017 Fantasy Football Team Defense Rankings – ...      0   \n",
       "12  Just Shut Up & Play Some Damn Baseball!!\\n(Bef...      0   \n",
       "13  FILE PHOTO: The Deloitte Company logo is seen ...      1   \n",
       "14  A Potato Battery Can Light up a Room for Over ...      0   \n",
       "15  • The authorities found evidence that the gunm...      1   \n",
       "16  The statement, which was read by her lawyer, M...      1   \n",
       "17  In bold documentary style, Retro Report looks ...      1   \n",
       "18  Red Flag Warning: These California Wildfires A...      0   \n",
       "\n",
       "                                           clean_body  polarity  subjectivity  \n",
       "0   image copyright getty imageson sunday morning ...  0.097076      0.417664  \n",
       "1   london reuters “last flag flying” comedydrama ...  0.087460      0.382090  \n",
       "2   feud broke public view last week mr corker sai...  0.048445      0.341780  \n",
       "3   mexico city reuters egypt’s cheiron holdings l... -0.032738      0.273810  \n",
       "4   country singer jason aldean performing las veg... -0.115909      0.500000  \n",
       "5   jetnation fanduel league week readers think st...  0.000000      0.337500  \n",
       "6   kansas lawmakers led gov sam brownback republi...  0.093799      0.462284  \n",
       "7   reserve bank india rbi governor urjit patel at...  0.044400      0.262600  \n",
       "8   scott pruitt administrator us environmental pr...  0.117235      0.422727  \n",
       "9   file photo air berlin sign seen air berlin sto...  0.001199      0.321591  \n",
       "10  aaron keselas former white house chief staff c...  0.095385      0.474382  \n",
       "11  fantasy football team defense rankings – week ...  0.052273      0.415909  \n",
       "12  shut play damn baseballbefore newslook plain s...  0.083017      0.453630  \n",
       "13  file photo deloitte company logo seen commerci...  0.006368      0.334791  \n",
       "14  potato battery light room month diy system use...  0.175000      0.550000  \n",
       "15  • authorities found evidence gunman stephen pa...  0.040727      0.433099  \n",
       "16  statement read lawyer matthew lombard came day...  0.091154      0.388984  \n",
       "17  bold documentary style retro report looks back...  0.161742      0.388745  \n",
       "18  red flag warning california wildfires ‘among d... -0.333333      0.400000  "
      ]
     },
     "execution_count": 59,
     "metadata": {},
     "output_type": "execute_result"
    }
   ],
   "source": [
    "#lets get the sentiments of the articles to see if it plays a crucial role in the news type\n",
    "from textblob import TextBlob\n",
    "\n",
    "pol = lambda x: TextBlob(x).sentiment.polarity\n",
    "sub = lambda x: TextBlob(x).sentiment.subjectivity\n",
    "\n",
    "data['polarity'] = data['clean_body'].apply(pol)\n",
    "data['subjectivity'] = data['clean_body'].apply(sub)\n",
    "data[:19]"
   ]
  },
  {
   "cell_type": "code",
   "execution_count": 60,
   "metadata": {},
   "outputs": [],
   "source": [
    "#Extract features and target variables\n",
    "import numpy as np\n",
    "\n",
    "X = np.array(data['clean_body'], data['URLs'])     #feature variables\n",
    "y = np.array(data['Label'])                          #target variable\n",
    "\n",
    "y = list(map(int, y))"
   ]
  },
  {
   "cell_type": "code",
   "execution_count": 61,
   "metadata": {},
   "outputs": [
    {
     "data": {
      "text/plain": [
       "2"
      ]
     },
     "execution_count": 61,
     "metadata": {},
     "output_type": "execute_result"
    }
   ],
   "source": [
    "#Split the data into folds\n",
    "from sklearn.model_selection import StratifiedKFold\n",
    "\n",
    "kf = StratifiedKFold(n_splits = 2)\n",
    "kf.get_n_splits(X)"
   ]
  },
  {
   "cell_type": "code",
   "execution_count": 62,
   "metadata": {},
   "outputs": [],
   "source": [
    "#Split the data into train and test\n",
    "from sklearn.model_selection import train_test_split\n",
    "\n",
    "X_train, X_test, y_train, y_test = train_test_split(X, y, test_size = 0.33)"
   ]
  },
  {
   "cell_type": "code",
   "execution_count": 63,
   "metadata": {},
   "outputs": [],
   "source": [
    "#create a document-term matrix for the train and test data using tfidf vectorizer\n",
    "from sklearn.feature_extraction.text import TfidfVectorizer\n",
    "\n",
    "tf = TfidfVectorizer(stop_words = 'english', max_df = 0.7)        #removing all Englilsh stop words\n",
    "tf_train = tf.fit_transform(X_train)\n",
    "tf_test = tf.transform(X_test)"
   ]
  },
  {
   "cell_type": "code",
   "execution_count": 64,
   "metadata": {},
   "outputs": [],
   "source": [
    "#get feature names\n",
    "#tf.get_feature_names()"
   ]
  },
  {
   "cell_type": "code",
   "execution_count": 65,
   "metadata": {},
   "outputs": [
    {
     "data": {
      "text/plain": [
       "MultinomialNB(alpha=1.0, class_prior=None, fit_prior=True)"
      ]
     },
     "execution_count": 65,
     "metadata": {},
     "output_type": "execute_result"
    }
   ],
   "source": [
    "#Now we feed our data into our classifiers to develop our model.\n",
    "#First we try the Naive Bayes classifier\n",
    "from sklearn.naive_bayes import MultinomialNB\n",
    "\n",
    "nb = MultinomialNB()\n",
    "\n",
    "#training the model\n",
    "nb.fit(tf_train, y_train)"
   ]
  },
  {
   "cell_type": "code",
   "execution_count": 66,
   "metadata": {},
   "outputs": [
    {
     "data": {
      "text/plain": [
       "array([1, 1, 1, 1, 0, 1, 0, 0, 1, 1])"
      ]
     },
     "execution_count": 66,
     "metadata": {},
     "output_type": "execute_result"
    }
   ],
   "source": [
    "#predicting\n",
    "nb_pred = nb.predict(tf_test)\n",
    "nb_pred[0:10]"
   ]
  },
  {
   "cell_type": "code",
   "execution_count": 67,
   "metadata": {},
   "outputs": [
    {
     "name": "stdout",
     "output_type": "stream",
     "text": [
      "accuracy: 0.927\n"
     ]
    }
   ],
   "source": [
    "#Evaluating the accuracy of the model\n",
    "nb_score = nb.score(tf_test, y_test)\n",
    "print('accuracy: %0.3f' % nb_score)"
   ]
  },
  {
   "cell_type": "code",
   "execution_count": 68,
   "metadata": {},
   "outputs": [
    {
     "name": "stderr",
     "output_type": "stream",
     "text": [
      "/usr/local/lib/python3.7/dist-packages/sklearn/linear_model/logistic.py:432: FutureWarning: Default solver will be changed to 'lbfgs' in 0.22. Specify a solver to silence this warning.\n",
      "  FutureWarning)\n"
     ]
    },
    {
     "data": {
      "text/plain": [
       "LogisticRegression(C=1.0, class_weight=None, dual=False, fit_intercept=True,\n",
       "                   intercept_scaling=1, l1_ratio=None, max_iter=100,\n",
       "                   multi_class='warn', n_jobs=None, penalty='l2',\n",
       "                   random_state=None, solver='warn', tol=0.0001, verbose=0,\n",
       "                   warm_start=False)"
      ]
     },
     "execution_count": 68,
     "metadata": {},
     "output_type": "execute_result"
    }
   ],
   "source": [
    "#Next let's build another model using logistic Regression\n",
    "from sklearn.linear_model import LogisticRegression\n",
    "\n",
    "lr = LogisticRegression()\n",
    "\n",
    "#training the model\n",
    "lr.fit(tf_train, y_train)"
   ]
  },
  {
   "cell_type": "code",
   "execution_count": 69,
   "metadata": {},
   "outputs": [
    {
     "data": {
      "text/plain": [
       "array([0, 1, 1, 1, 0, 1, 0, 0, 1, 1])"
      ]
     },
     "execution_count": 69,
     "metadata": {},
     "output_type": "execute_result"
    }
   ],
   "source": [
    "#predicting\n",
    "lr_pred = lr.predict(tf_test)\n",
    "lr_pred[0:10]"
   ]
  },
  {
   "cell_type": "code",
   "execution_count": 70,
   "metadata": {},
   "outputs": [
    {
     "name": "stdout",
     "output_type": "stream",
     "text": [
      "accuracy: 0.960\n"
     ]
    }
   ],
   "source": [
    "#Evaluating the accuracy of the logistic regression model\n",
    "lr_score = lr.score(tf_test, y_test)\n",
    "print('accuracy: %0.3f' % lr_score)"
   ]
  },
  {
   "cell_type": "code",
   "execution_count": 71,
   "metadata": {},
   "outputs": [
    {
     "name": "stderr",
     "output_type": "stream",
     "text": [
      "/usr/local/lib/python3.7/dist-packages/sklearn/ensemble/forest.py:245: FutureWarning: The default value of n_estimators will change from 10 in version 0.20 to 100 in 0.22.\n",
      "  \"10 in version 0.20 to 100 in 0.22.\", FutureWarning)\n"
     ]
    },
    {
     "data": {
      "text/plain": [
       "RandomForestClassifier(bootstrap=True, class_weight=None, criterion='gini',\n",
       "                       max_depth=None, max_features='auto', max_leaf_nodes=None,\n",
       "                       min_impurity_decrease=0.0, min_impurity_split=None,\n",
       "                       min_samples_leaf=1, min_samples_split=2,\n",
       "                       min_weight_fraction_leaf=0.0, n_estimators=10,\n",
       "                       n_jobs=None, oob_score=False, random_state=None,\n",
       "                       verbose=0, warm_start=False)"
      ]
     },
     "execution_count": 71,
     "metadata": {},
     "output_type": "execute_result"
    }
   ],
   "source": [
    "#Using the random forest classifier\n",
    "from sklearn.ensemble import RandomForestClassifier\n",
    "\n",
    "rf = RandomForestClassifier()\n",
    "\n",
    "#training the model\n",
    "rf.fit(tf_train, y_train)"
   ]
  },
  {
   "cell_type": "code",
   "execution_count": 72,
   "metadata": {},
   "outputs": [
    {
     "data": {
      "text/plain": [
       "array([0, 1, 1, 1, 0, 1, 0, 0, 0, 0])"
      ]
     },
     "execution_count": 72,
     "metadata": {},
     "output_type": "execute_result"
    }
   ],
   "source": [
    "#predicting\n",
    "rf_pred = rf.predict(tf_test)\n",
    "rf_pred[0:10]"
   ]
  },
  {
   "cell_type": "code",
   "execution_count": 73,
   "metadata": {},
   "outputs": [
    {
     "name": "stdout",
     "output_type": "stream",
     "text": [
      "accuracy: 0.922\n"
     ]
    }
   ],
   "source": [
    "#Evaluating the accuracy of the model\n",
    "rf_score = rf.score(tf_test, y_test)\n",
    "print('accuracy: %0.3f' % rf_score)"
   ]
  },
  {
   "cell_type": "code",
   "execution_count": 74,
   "metadata": {},
   "outputs": [],
   "source": [
    "# We are going to create document-term matrix using the tfidf vectorizer\n",
    "#from sklearn.feature_extraction.text import TfidfVectorizer\n",
    "\n",
    "#tf = TfidfVectorizer(stop_words = 'english', max_df = 0.7) #removing all english stop words\n",
    "#data_tf = tf.fit_transform(data_clean.Body)\n",
    "#data_dtm = pd.DataFrame(data_tf.toarray(), columns = tf.get_feature_names())\n",
    "#data_dtm.index = data_clean.index\n",
    "#data_dtm"
   ]
  },
  {
   "cell_type": "code",
   "execution_count": 75,
   "metadata": {},
   "outputs": [],
   "source": [
    "#let's pickle the data_dtm for future use\n",
    "#data_dtm.to_pickle(\"dtm.pkl\")"
   ]
  },
  {
   "cell_type": "code",
   "execution_count": 76,
   "metadata": {},
   "outputs": [],
   "source": [
    "#let's pickle the cleaned data for future use\n",
    "import pickle\n",
    "\n",
    "data_clean.to_pickle('data_clean.pkl')\n",
    "pickle.dump(tf, open('cv.pkl', 'wb'))"
   ]
  },
  {
   "cell_type": "code",
   "execution_count": 77,
   "metadata": {},
   "outputs": [],
   "source": [
    "#Since the logistic regression model is the most accurate classifier, lets save it and test it with \n",
    "#other news articles\n",
    "\n",
    "#saving the model\n",
    "\n",
    "with open ('log_model', 'wb') as f:\n",
    "    pickle.dump(lr, f)"
   ]
  },
  {
   "cell_type": "code",
   "execution_count": 78,
   "metadata": {},
   "outputs": [],
   "source": [
    "#importing the model and testing\n",
    "\n",
    "with open ('log_model', 'rb') as f:\n",
    "    lr_model = pickle.load(f)"
   ]
  },
  {
   "cell_type": "code",
   "execution_count": 79,
   "metadata": {},
   "outputs": [],
   "source": [
    "#Testing the model with other news articles"
   ]
  },
  {
   "cell_type": "code",
   "execution_count": 80,
   "metadata": {},
   "outputs": [],
   "source": [
    "text = [\"\"\"By MassPrivateI\n",
    "Editor’s Note: The stages of incrementalism seem to be speeding up. Nicholas West has written for Activist Post just this month about China’s high tech KFC called KPRO turning to facial recognition for payment, as well as a UK supermarket becoming the world’s first to use finger vein scans for its customers. The use of biometrics was, of course, first peddled as a necessary security measure, so we have seen it spread in that capacity from planes to trains and even for event security. Now the cashless agenda can more aggressively make its move for the full roll-out of biometric identification and payment into every facet of daily life.\n",
    "The article below from MassPrivateI offers additional context for what is now leading to biometric payment systems at train stations.\n",
    "The TSA is winning the war on Americans minds as commuters are being tricked into giving away their rights without a fight.\n",
    "The above video warns that facial recognition body scanners are coming to a train station near you…\n",
    "Soon you might have to pass through one of these to get to your train or subway.\n",
    "Last week, the TSA Los Angeles Metropolitan Transportation Authority ‘voluntarily’ asked commuters to walk through facial recognition body scanners before being allowed to board a train.\n",
    "If you watched the video you might have noticed that the mass media (CBS) did not interview a single person who was concerned about their privacy. Instead, they quoted passengers who think body scanners are a good thing.\n",
    "Nothing suspicious about that, right?\n",
    "CBS warned that if the LA Metro installs body scanners next year, commuters won’t be able to opt-out.\n",
    "According to an article in the LA Times, the LA Metro has begun piloting biometric body scanners that send short-wave radio frequencies through commuters’ bodies to search for bombs and weapons.\n",
    "A ‘pilot program’ is really a government euphemism for gauging the public’s response to another intrusive police search.\n",
    "Updated 9/26:\n",
    "Train stations to use facial recognition and palm vein scanners\n",
    "UK commuters will be identified by using either a palm vein scanner or facial recognition.\n",
    "The palm vein scanner uses an infrared sensor to capture the pattern of blood vessels in your hand. At the moment, Cubic envisages that a rider would go to a station to register their palm print and link it to their payment account. Then, when they put their hand on the scanner before a journey, the scanner will recognize their palm and charge their account. “The point being you could use your hand rather than your oyster card as a token to access the system,” Cubic strategy manager David Roat says. […] The facial recognition system would work in a similar way to the palm vein scanner: You register your face as your ticket, then cameras and infrared sensors at the gate detect you when you pass through and charge your payment account. The use of infrared sensors means the system couldn’t be fooled by a 2D image. (Source)\n",
    "According to an article in The Guardian, the start-up company Evolv Technology is pilot testing high-speed body scanners at the Los Angeles’s Union Station, Union Station in D.C., and the Denver international airport.\n",
    "Evolv has taken a page right out of the TSA playbook citing safety concerns and fears of terror to justify their usage.\n",
    "Evolv CEO Michael Ellonbogen said, “I think we need to change our entire take on physical security and knit it into the flow of our daily lives”. “It’s an unfortunate trend, but physical security is morphing and the problem is worsening”, said Lux Capital’s Bilal. (Source)\n",
    "Corporations are using Americans fears of terror to make huge profits.\n",
    "Evolv stands to make hundreds of millions of dollars if commuter train stations install their body scanners. A single scanner will cost taxpayers $60,000, while Bill Gates who helped fund Evolv Technology makes a nice profit.\n",
    "Police use our fears of terror to justify losing of our rights\n",
    "An LA Times article served as a mouthpiece to justify more government spying.\n",
    "“While we’ll never become a fully secured environment like you’d have in the airport, we do want to find a way to more effectively screen passengers,” Metro security executive Alex Wiggins said. “We are trying to stay ahead of the threat.”\n",
    "Mr. Wiggins isn’t done scaring the public just yet…\n",
    "“Transportation is a very soft and attractive target,” said Wiggins,“Given the recent large-scale attacks at transit facilities in Europe, we need to see if there is technology that can screen large number of peoples and focus in on weapons and explosives.” (Source)\n",
    "Curiously, the LA Times devoted only one sentence to privacy concerns.\n",
    "Three months ago, I warned everyone that California Transit Authorities have a history of using corporate surveillance technology to spy on commuters.\n",
    "A class action lawsuit in California revealed that Transit Police are using a ‘Bart Watch’ app and Stingray surveillance to allegedly spy on commuters texts and emails.\n",
    "Let’s make one thing perfectly clear: the war on terror is a for-profit business being led by private corporations and DHS. (The TSA is part of DHS.)\n",
    "To learn more, I recommend checking out Gary Jacobucci’s article that asked if, ‘DHS is a private offshore corporation.‘ Here are two companies that appear to be fronts for DHS: Homeland Security Solutions and Homeland Security Corporation. (Click here & here to find out more.)\n",
    "Body scanners use government watchlists\n",
    "Evolv uses ‘Known Wolves’, watchlist software that can identify people of interest or anyone on a government watchlist.\n",
    "Stay on constant lookout for known wolves and other watchlist individuals using proven facial recognition and human IQ. Integrated video camera provides positive ID for alarm resolution. Send notifications and alerts to mobile team or operations center. (Source)\n",
    "Getting the public to accept facial recognition body scanners at airports and Disney World is only part of a much greater privacy nightmare.\n",
    "Evolv’s facial recognition body scanners are being used at public area screenings, sporting events, and employee screenings.\n",
    "Retail stores and conference centers are also using facial biometric cameras and scanners.\n",
    "Imagine a future where the police use government watchlists, facial biometric scanners, Stingray cellphone surveillance, Bluetooth, and license plate readers to spy on our every movement.\n",
    "This is our future unless we fight for our privacy rights.\n",
    "You can read more from MassPrivateI at his blog HERE.\"\"\"]\n"
   ]
  },
  {
   "cell_type": "code",
   "execution_count": 81,
   "metadata": {},
   "outputs": [
    {
     "data": {
      "text/plain": [
       "array([[0., 0., 0., ..., 0., 0., 0.]])"
      ]
     },
     "execution_count": 81,
     "metadata": {},
     "output_type": "execute_result"
    }
   ],
   "source": [
    "vect = tf.transform(text).toarray()\n",
    "vect"
   ]
  },
  {
   "cell_type": "code",
   "execution_count": 82,
   "metadata": {},
   "outputs": [
    {
     "data": {
      "text/plain": [
       "array([0])"
      ]
     },
     "execution_count": 82,
     "metadata": {},
     "output_type": "execute_result"
    }
   ],
   "source": [
    "lr_model.predict(vect)"
   ]
  },
  {
   "cell_type": "code",
   "execution_count": 83,
   "metadata": {},
   "outputs": [
    {
     "data": {
      "text/plain": [
       "dict_values([0, 1])"
      ]
     },
     "execution_count": 83,
     "metadata": {},
     "output_type": "execute_result"
    }
   ],
   "source": [
    "class_dict = {'FAKE': 0, 'TRUE/REAL': 1}\n",
    "class_dict.values()"
   ]
  },
  {
   "cell_type": "code",
   "execution_count": 84,
   "metadata": {},
   "outputs": [
    {
     "name": "stdout",
     "output_type": "stream",
     "text": [
      "FAKE\n"
     ]
    }
   ],
   "source": [
    "if lr_model.predict(vect) == 1:\n",
    "    print('TRUE/REAL')\n",
    "else:\n",
    "        print('FAKE')"
   ]
  },
  {
   "cell_type": "code",
   "execution_count": null,
   "metadata": {},
   "outputs": [],
   "source": []
  }
 ],
 "metadata": {
  "kernelspec": {
   "display_name": "Python 3",
   "language": "python",
   "name": "python3"
  },
  "language_info": {
   "codemirror_mode": {
    "name": "ipython",
    "version": 3
   },
   "file_extension": ".py",
   "mimetype": "text/x-python",
   "name": "python",
   "nbconvert_exporter": "python",
   "pygments_lexer": "ipython3",
   "version": "3.7.5"
  }
 },
 "nbformat": 4,
 "nbformat_minor": 2
}
