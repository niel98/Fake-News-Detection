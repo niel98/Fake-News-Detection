{
 "cells": [
  {
   "cell_type": "code",
   "execution_count": 60,
   "metadata": {},
   "outputs": [],
   "source": [
    "import pandas as pd"
   ]
  },
  {
   "cell_type": "code",
   "execution_count": 61,
   "metadata": {},
   "outputs": [
    {
     "data": {
      "text/html": [
       "<div>\n",
       "<style scoped>\n",
       "    .dataframe tbody tr th:only-of-type {\n",
       "        vertical-align: middle;\n",
       "    }\n",
       "\n",
       "    .dataframe tbody tr th {\n",
       "        vertical-align: top;\n",
       "    }\n",
       "\n",
       "    .dataframe thead th {\n",
       "        text-align: right;\n",
       "    }\n",
       "</style>\n",
       "<table border=\"1\" class=\"dataframe\">\n",
       "  <thead>\n",
       "    <tr style=\"text-align: right;\">\n",
       "      <th></th>\n",
       "      <th>URLs</th>\n",
       "      <th>Headline</th>\n",
       "      <th>Body</th>\n",
       "      <th>Label</th>\n",
       "    </tr>\n",
       "  </thead>\n",
       "  <tbody>\n",
       "    <tr>\n",
       "      <td>0</td>\n",
       "      <td>http://www.bbc.com/news/world-us-canada-414191...</td>\n",
       "      <td>Four ways Bob Corker skewered Donald Trump</td>\n",
       "      <td>Image copyright Getty Images\\nOn Sunday mornin...</td>\n",
       "      <td>1</td>\n",
       "    </tr>\n",
       "    <tr>\n",
       "      <td>1</td>\n",
       "      <td>https://www.reuters.com/article/us-filmfestiva...</td>\n",
       "      <td>Linklater's war veteran comedy speaks to moder...</td>\n",
       "      <td>LONDON (Reuters) - “Last Flag Flying”, a comed...</td>\n",
       "      <td>1</td>\n",
       "    </tr>\n",
       "    <tr>\n",
       "      <td>2</td>\n",
       "      <td>https://www.nytimes.com/2017/10/09/us/politics...</td>\n",
       "      <td>Trump’s Fight With Corker Jeopardizes His Legi...</td>\n",
       "      <td>The feud broke into public view last week when...</td>\n",
       "      <td>1</td>\n",
       "    </tr>\n",
       "    <tr>\n",
       "      <td>3</td>\n",
       "      <td>https://www.reuters.com/article/us-mexico-oil-...</td>\n",
       "      <td>Egypt's Cheiron wins tie-up with Pemex for Mex...</td>\n",
       "      <td>MEXICO CITY (Reuters) - Egypt’s Cheiron Holdin...</td>\n",
       "      <td>1</td>\n",
       "    </tr>\n",
       "    <tr>\n",
       "      <td>4</td>\n",
       "      <td>http://www.cnn.com/videos/cnnmoney/2017/10/08/...</td>\n",
       "      <td>Jason Aldean opens 'SNL' with Vegas tribute</td>\n",
       "      <td>Country singer Jason Aldean, who was performin...</td>\n",
       "      <td>1</td>\n",
       "    </tr>\n",
       "  </tbody>\n",
       "</table>\n",
       "</div>"
      ],
      "text/plain": [
       "                                                URLs  \\\n",
       "0  http://www.bbc.com/news/world-us-canada-414191...   \n",
       "1  https://www.reuters.com/article/us-filmfestiva...   \n",
       "2  https://www.nytimes.com/2017/10/09/us/politics...   \n",
       "3  https://www.reuters.com/article/us-mexico-oil-...   \n",
       "4  http://www.cnn.com/videos/cnnmoney/2017/10/08/...   \n",
       "\n",
       "                                            Headline  \\\n",
       "0         Four ways Bob Corker skewered Donald Trump   \n",
       "1  Linklater's war veteran comedy speaks to moder...   \n",
       "2  Trump’s Fight With Corker Jeopardizes His Legi...   \n",
       "3  Egypt's Cheiron wins tie-up with Pemex for Mex...   \n",
       "4        Jason Aldean opens 'SNL' with Vegas tribute   \n",
       "\n",
       "                                                Body  Label  \n",
       "0  Image copyright Getty Images\\nOn Sunday mornin...      1  \n",
       "1  LONDON (Reuters) - “Last Flag Flying”, a comed...      1  \n",
       "2  The feud broke into public view last week when...      1  \n",
       "3  MEXICO CITY (Reuters) - Egypt’s Cheiron Holdin...      1  \n",
       "4  Country singer Jason Aldean, who was performin...      1  "
      ]
     },
     "execution_count": 61,
     "metadata": {},
     "output_type": "execute_result"
    }
   ],
   "source": [
    "#importing the dataset as a corpus using the pandas library\n",
    "data = pd.read_csv('data.csv')\n",
    "data.head()"
   ]
  },
  {
   "cell_type": "code",
   "execution_count": 62,
   "metadata": {},
   "outputs": [
    {
     "data": {
      "text/plain": [
       "'Image copyright Getty Images\\nOn Sunday morning, Donald Trump went off on a Twitter tirade against a member of his own party.\\nThis, in itself, isn\\'t exactly huge news. It\\'s far from the first time the president has turned his rhetorical cannons on his own ranks.\\nThis time, however, his attacks were particularly biting and personal. He essentially called Tennessee Senator Bob Corker, the chair of the powerful Senate Foreign Relations Committee, a coward for not running for re-election.\\nHe said Mr Corker \"begged\" for the president\\'s endorsement, which he refused to give. He wrongly claimed that Mr Corker\\'s support of the Iranian nuclear agreement was his only political accomplishment.\\nUnlike some of his colleagues, Mr Corker - free from having to worry about his immediate political future - didn\\'t hold his tongue.\\nSkip Twitter post by @SenBobCorker It\\'s a shame the White House has become an adult day care center. Someone obviously missed their shift this morning. — Senator Bob Corker (@SenBobCorker) October 8, 2017 Report\\nThat wasn\\'t the end of it, though. He then spoke with the New York Times and really let the president have it. Here are four choice quotes from the Tennessee senator\\'s interview with the Times and why they are particularly damning.\\n\"I don\\'t know why the president tweets out things that are not true. You know he does it, everyone knows he does it, but he does.\"\\nYou can\\'t really sugarcoat this one. Mr Corker is flat-out saying the president is a liar - and everyone knows it.\\nThe senator, in particular, is challenging Mr Trump\\'s insistence that he unsuccessfully pleaded for his endorsement, but the accusation is much broader.\\nMr Corker and the president used to be something akin to allies. The Tennessean was on Mr Trump\\'s short list for vice-president and secretary of state.\\nImage copyright Getty Images Image caption Bob Corker at Trump campaign rally in July 2016\\nThose days are seemingly very much over now - and it\\'s not like Mr Corker is going anywhere anytime soon. Although he\\'s not running for re-election, he\\'ll be in the Senate, chairing a powerful committee, until January 2019.\\nThe president\\'s margin for success in that chamber is razor-thin. If Democrats can continue to stand together in opposition, he can afford to lose only two votes out of 52 Republican senators. That\\'s why healthcare reform collapsed in July - and it could be bad news for tax efforts.\\nFrom here on out, Mr Corker isn\\'t going to do the president any favours.\\n\"Look, except for a few people, the vast majority of our caucus understands what we\\'re dealing with here.\"\\nFrustration in Congress has been growing over what Republicans feel has been the president\\'s inability to focus on advancing their agenda. Getting a sharply divided party to come together on plans to repeal Obamacare, reform taxes or boost infrastructure spending is challenging enough. Doing so when the president stirs up unrelated controversies on a seemingly daily basis makes things all the harder.\\nOne of the president\\'s gifts has been his ability to shake off negative stories by quickly moving on to a different subject. That worked brilliantly during his presidential campaign, but it\\'s less effective during the legislative slow grind.\\nImage copyright Getty Images Image caption Corker at the confirmation hearing for Secretary of State Rex Tillerson\\nFor months, Republicans in Congress have been grumbling about this in the background and among themselves. Occasionally, someone like Mr McConnell will lament that the president doesn\\'t understand how the Senate works.\\nMr Corker has now stated it loud and clear. And, what\\'s more, he says almost everyone agrees with him. They\\'ve kept silent until now because they still hope to pass conservative legislation that the president can sign or fear Mr Trump\\'s legions will back a primary challenge next year or stay home during the general election.\\nIf that calculus ever changes - if it becomes riskier to stay silent than speak out - Mr Trump will be in real trouble.\\n\"A lot of people think that there is some kind of \\'good cop, bad cop\\' act underway, but that\\'s just not true.\"\\nTime and again, Mr Trump has appeared to undercut Secretary of State Rex Tillerson and others in his administration who are attempting to use soft diplomacy to deal with a range of international crises.\\nThe war against the Taliban in Afghanistan, Iran\\'s compliance with the multinational nuclear agreement, the ongoing dispute between Qatar and its Persian Gulf neighbours, the unrest in Venezuela and, most recently, North Korea\\'s continued ballistic missile tests have all been the target of the president\\'s offhand remarks and Twitter invective.\\nSome administration defenders have said this is all a part of Mr Trump\\'s strategy - an updated version of the Nixon-era \"madman theory\", in which the president forces adversaries to give way because they fear an unpredictable US leader\\'s actions.\\nMr Corker isn\\'t buying it. There\\'s no strategy, he says, just the possibility of chaos - which he hopes Mr Trump\\'s senior advisers will be able to avoid.\\n\"I know for a fact that every single day at the White House, it\\'s a situation of trying to contain him.\"\\nThere\\'s now a growing collection of John Kelly face-palm photos that serve as a testament to the chief-of-staff\\'s reported frustration at dealing with the president.\\nMr Trump goes off-script to praise torch-bearing white nationalists at a rally in Charlottesville, and Mr Kelly is captured closing his eyes and rubbing the arch of his nose, as if attempting to stave off a migraine.\\nImage copyright Reuters Image caption White House Chief of Staff John Kelly looks on as US President Donald Trump speaks at a campaign rally\\nThe president calls North Korean leaders \"criminals\" in a speech to the United Nations, and Mr Kelly straight-up buries his face in his hands.\\nThe White House communications team is often left scrambling to try to explain or reframe an indelicate presidential \"joke\" or remark that directly contradicts what was until then the official administration line.\\nEven though Mr Kelly has brought some discipline to the West Wing staff, the president still marches to the beat of his own drum - and continues to have unfettered access to his phone\\'s Twitter app.\\nBob Corker is only the latest person - politician, journalist, sports star or celebrity - to feel the mercurial president\\'s uncontainable ire.'"
      ]
     },
     "execution_count": 62,
     "metadata": {},
     "output_type": "execute_result"
    }
   ],
   "source": [
    "#inspecting the data to see what it looks like\n",
    "data['Body'][0]"
   ]
  },
  {
   "cell_type": "code",
   "execution_count": 63,
   "metadata": {},
   "outputs": [
    {
     "data": {
      "text/plain": [
       "0    Image copyright Getty Images\\nOn Sunday mornin...\n",
       "1    LONDON (Reuters) - “Last Flag Flying”, a comed...\n",
       "2    The feud broke into public view last week when...\n",
       "3    MEXICO CITY (Reuters) - Egypt’s Cheiron Holdin...\n",
       "4    Country singer Jason Aldean, who was performin...\n",
       "5    JetNation FanDuel League; Week 4\\n% of readers...\n",
       "6    In 2012, Kansas lawmakers, led by Gov. Sam Bro...\n",
       "Name: Body, dtype: object"
      ]
     },
     "execution_count": 63,
     "metadata": {},
     "output_type": "execute_result"
    }
   ],
   "source": [
    "data['Body'][:7]"
   ]
  },
  {
   "cell_type": "code",
   "execution_count": 64,
   "metadata": {},
   "outputs": [
    {
     "data": {
      "text/html": [
       "<div>\n",
       "<style scoped>\n",
       "    .dataframe tbody tr th:only-of-type {\n",
       "        vertical-align: middle;\n",
       "    }\n",
       "\n",
       "    .dataframe tbody tr th {\n",
       "        vertical-align: top;\n",
       "    }\n",
       "\n",
       "    .dataframe thead th {\n",
       "        text-align: right;\n",
       "    }\n",
       "</style>\n",
       "<table border=\"1\" class=\"dataframe\">\n",
       "  <thead>\n",
       "    <tr style=\"text-align: right;\">\n",
       "      <th></th>\n",
       "      <th>URLs</th>\n",
       "      <th>Headline</th>\n",
       "      <th>Body</th>\n",
       "      <th>Label</th>\n",
       "    </tr>\n",
       "  </thead>\n",
       "  <tbody>\n",
       "    <tr>\n",
       "      <td>0</td>\n",
       "      <td>http://www.bbc.com/news/world-us-canada-414191...</td>\n",
       "      <td>Four ways Bob Corker skewered Donald Trump</td>\n",
       "      <td>Image copyright Getty Images\\nOn Sunday mornin...</td>\n",
       "      <td>1</td>\n",
       "    </tr>\n",
       "    <tr>\n",
       "      <td>1</td>\n",
       "      <td>https://www.reuters.com/article/us-filmfestiva...</td>\n",
       "      <td>Linklater's war veteran comedy speaks to moder...</td>\n",
       "      <td>LONDON (Reuters) - “Last Flag Flying”, a comed...</td>\n",
       "      <td>1</td>\n",
       "    </tr>\n",
       "    <tr>\n",
       "      <td>2</td>\n",
       "      <td>https://www.nytimes.com/2017/10/09/us/politics...</td>\n",
       "      <td>Trump’s Fight With Corker Jeopardizes His Legi...</td>\n",
       "      <td>The feud broke into public view last week when...</td>\n",
       "      <td>1</td>\n",
       "    </tr>\n",
       "    <tr>\n",
       "      <td>3</td>\n",
       "      <td>https://www.reuters.com/article/us-mexico-oil-...</td>\n",
       "      <td>Egypt's Cheiron wins tie-up with Pemex for Mex...</td>\n",
       "      <td>MEXICO CITY (Reuters) - Egypt’s Cheiron Holdin...</td>\n",
       "      <td>1</td>\n",
       "    </tr>\n",
       "    <tr>\n",
       "      <td>4</td>\n",
       "      <td>http://www.cnn.com/videos/cnnmoney/2017/10/08/...</td>\n",
       "      <td>Jason Aldean opens 'SNL' with Vegas tribute</td>\n",
       "      <td>Country singer Jason Aldean, who was performin...</td>\n",
       "      <td>1</td>\n",
       "    </tr>\n",
       "    <tr>\n",
       "      <td>...</td>\n",
       "      <td>...</td>\n",
       "      <td>...</td>\n",
       "      <td>...</td>\n",
       "      <td>...</td>\n",
       "    </tr>\n",
       "    <tr>\n",
       "      <td>4004</td>\n",
       "      <td>http://beforeitsnews.com/sports/2017/09/trends...</td>\n",
       "      <td>Trends to Watch</td>\n",
       "      <td>Trends to Watch\\n% of readers think this story...</td>\n",
       "      <td>0</td>\n",
       "    </tr>\n",
       "    <tr>\n",
       "      <td>4005</td>\n",
       "      <td>http://beforeitsnews.com/u-s-politics/2017/10/...</td>\n",
       "      <td>Trump Jr. Is Soon To Give A 30-Minute Speech F...</td>\n",
       "      <td>Trump Jr. Is Soon To Give A 30-Minute Speech F...</td>\n",
       "      <td>0</td>\n",
       "    </tr>\n",
       "    <tr>\n",
       "      <td>4006</td>\n",
       "      <td>https://www.activistpost.com/2017/09/ron-paul-...</td>\n",
       "      <td>Ron Paul on Trump, Anarchism &amp; the AltRight</td>\n",
       "      <td>Article unavailable</td>\n",
       "      <td>0</td>\n",
       "    </tr>\n",
       "    <tr>\n",
       "      <td>4007</td>\n",
       "      <td>https://www.reuters.com/article/us-china-pharm...</td>\n",
       "      <td>China to accept overseas trial data in bid to ...</td>\n",
       "      <td>SHANGHAI (Reuters) - China said it plans to ac...</td>\n",
       "      <td>1</td>\n",
       "    </tr>\n",
       "    <tr>\n",
       "      <td>4008</td>\n",
       "      <td>http://beforeitsnews.com/u-s-politics/2017/10/...</td>\n",
       "      <td>Vice President Mike Pence Leaves NFL Game Beca...</td>\n",
       "      <td>Vice President Mike Pence Leaves NFL Game Beca...</td>\n",
       "      <td>0</td>\n",
       "    </tr>\n",
       "  </tbody>\n",
       "</table>\n",
       "<p>4009 rows × 4 columns</p>\n",
       "</div>"
      ],
      "text/plain": [
       "                                                   URLs  \\\n",
       "0     http://www.bbc.com/news/world-us-canada-414191...   \n",
       "1     https://www.reuters.com/article/us-filmfestiva...   \n",
       "2     https://www.nytimes.com/2017/10/09/us/politics...   \n",
       "3     https://www.reuters.com/article/us-mexico-oil-...   \n",
       "4     http://www.cnn.com/videos/cnnmoney/2017/10/08/...   \n",
       "...                                                 ...   \n",
       "4004  http://beforeitsnews.com/sports/2017/09/trends...   \n",
       "4005  http://beforeitsnews.com/u-s-politics/2017/10/...   \n",
       "4006  https://www.activistpost.com/2017/09/ron-paul-...   \n",
       "4007  https://www.reuters.com/article/us-china-pharm...   \n",
       "4008  http://beforeitsnews.com/u-s-politics/2017/10/...   \n",
       "\n",
       "                                               Headline  \\\n",
       "0            Four ways Bob Corker skewered Donald Trump   \n",
       "1     Linklater's war veteran comedy speaks to moder...   \n",
       "2     Trump’s Fight With Corker Jeopardizes His Legi...   \n",
       "3     Egypt's Cheiron wins tie-up with Pemex for Mex...   \n",
       "4           Jason Aldean opens 'SNL' with Vegas tribute   \n",
       "...                                                 ...   \n",
       "4004                                    Trends to Watch   \n",
       "4005  Trump Jr. Is Soon To Give A 30-Minute Speech F...   \n",
       "4006        Ron Paul on Trump, Anarchism & the AltRight   \n",
       "4007  China to accept overseas trial data in bid to ...   \n",
       "4008  Vice President Mike Pence Leaves NFL Game Beca...   \n",
       "\n",
       "                                                   Body  Label  \n",
       "0     Image copyright Getty Images\\nOn Sunday mornin...      1  \n",
       "1     LONDON (Reuters) - “Last Flag Flying”, a comed...      1  \n",
       "2     The feud broke into public view last week when...      1  \n",
       "3     MEXICO CITY (Reuters) - Egypt’s Cheiron Holdin...      1  \n",
       "4     Country singer Jason Aldean, who was performin...      1  \n",
       "...                                                 ...    ...  \n",
       "4004  Trends to Watch\\n% of readers think this story...      0  \n",
       "4005  Trump Jr. Is Soon To Give A 30-Minute Speech F...      0  \n",
       "4006                                Article unavailable      0  \n",
       "4007  SHANGHAI (Reuters) - China said it plans to ac...      1  \n",
       "4008  Vice President Mike Pence Leaves NFL Game Beca...      0  \n",
       "\n",
       "[4009 rows x 4 columns]"
      ]
     },
     "execution_count": 64,
     "metadata": {},
     "output_type": "execute_result"
    }
   ],
   "source": [
    "#Looking at the data, there are some missing columns, so let's take care of that\n",
    "data.fillna('Article unavailable')"
   ]
  },
  {
   "cell_type": "code",
   "execution_count": 65,
   "metadata": {},
   "outputs": [],
   "source": [
    "#data cleaning with text preprocessing techniques\n",
    "#data cleaning first round\n",
    "#using regular expressions and string to clean\n",
    "\n",
    "import re\n",
    "import string"
   ]
  },
  {
   "cell_type": "code",
   "execution_count": 66,
   "metadata": {},
   "outputs": [],
   "source": [
    "#function for first round of data cleaning\n",
    "def clean_text_round1(text):\n",
    "    text = str(text).lower() #making all text lowercase\n",
    "    text = re.sub('\\[.*?\\]', '', text) #removing full stops and question marks\n",
    "    text = re.sub('[%s]' % re.escape(string.punctuation), '', text)\n",
    "    text = re.sub('\\w*\\d\\w*', '', text) #removing digits\n",
    "    return text\n",
    "\n",
    "round1 = lambda x: clean_text_round1(x)"
   ]
  },
  {
   "cell_type": "code",
   "execution_count": 67,
   "metadata": {},
   "outputs": [
    {
     "data": {
      "text/html": [
       "<div>\n",
       "<style scoped>\n",
       "    .dataframe tbody tr th:only-of-type {\n",
       "        vertical-align: middle;\n",
       "    }\n",
       "\n",
       "    .dataframe tbody tr th {\n",
       "        vertical-align: top;\n",
       "    }\n",
       "\n",
       "    .dataframe thead th {\n",
       "        text-align: right;\n",
       "    }\n",
       "</style>\n",
       "<table border=\"1\" class=\"dataframe\">\n",
       "  <thead>\n",
       "    <tr style=\"text-align: right;\">\n",
       "      <th></th>\n",
       "      <th>Body</th>\n",
       "    </tr>\n",
       "  </thead>\n",
       "  <tbody>\n",
       "    <tr>\n",
       "      <td>0</td>\n",
       "      <td>image copyright getty images\\non sunday mornin...</td>\n",
       "    </tr>\n",
       "    <tr>\n",
       "      <td>1</td>\n",
       "      <td>london reuters  “last flag flying” a comedydra...</td>\n",
       "    </tr>\n",
       "    <tr>\n",
       "      <td>2</td>\n",
       "      <td>the feud broke into public view last week when...</td>\n",
       "    </tr>\n",
       "    <tr>\n",
       "      <td>3</td>\n",
       "      <td>mexico city reuters  egypt’s cheiron holdings ...</td>\n",
       "    </tr>\n",
       "    <tr>\n",
       "      <td>4</td>\n",
       "      <td>country singer jason aldean who was performing...</td>\n",
       "    </tr>\n",
       "    <tr>\n",
       "      <td>...</td>\n",
       "      <td>...</td>\n",
       "    </tr>\n",
       "    <tr>\n",
       "      <td>4004</td>\n",
       "      <td>trends to watch\\n of readers think this story ...</td>\n",
       "    </tr>\n",
       "    <tr>\n",
       "      <td>4005</td>\n",
       "      <td>trump jr is soon to give a  speech for \\n of r...</td>\n",
       "    </tr>\n",
       "    <tr>\n",
       "      <td>4006</td>\n",
       "      <td>nan</td>\n",
       "    </tr>\n",
       "    <tr>\n",
       "      <td>4007</td>\n",
       "      <td>shanghai reuters  china said it plans to accep...</td>\n",
       "    </tr>\n",
       "    <tr>\n",
       "      <td>4008</td>\n",
       "      <td>vice president mike pence leaves nfl game beca...</td>\n",
       "    </tr>\n",
       "  </tbody>\n",
       "</table>\n",
       "<p>4009 rows × 1 columns</p>\n",
       "</div>"
      ],
      "text/plain": [
       "                                                   Body\n",
       "0     image copyright getty images\\non sunday mornin...\n",
       "1     london reuters  “last flag flying” a comedydra...\n",
       "2     the feud broke into public view last week when...\n",
       "3     mexico city reuters  egypt’s cheiron holdings ...\n",
       "4     country singer jason aldean who was performing...\n",
       "...                                                 ...\n",
       "4004  trends to watch\\n of readers think this story ...\n",
       "4005  trump jr is soon to give a  speech for \\n of r...\n",
       "4006                                                nan\n",
       "4007  shanghai reuters  china said it plans to accep...\n",
       "4008  vice president mike pence leaves nfl game beca...\n",
       "\n",
       "[4009 rows x 1 columns]"
      ]
     },
     "execution_count": 67,
     "metadata": {},
     "output_type": "execute_result"
    }
   ],
   "source": [
    "#Let's take a look at the updated text\n",
    "data_clean = pd.DataFrame(data.Body.apply(round1))\n",
    "data_clean"
   ]
  },
  {
   "cell_type": "code",
   "execution_count": 68,
   "metadata": {},
   "outputs": [],
   "source": [
    "#let's apply a second round of cleaning because some nonsensical text was ignored in the first clean\n",
    "def clean_text_round2(text):\n",
    "    text = re.sub('[''\"\"...]', '', text)\n",
    "    text = re.sub('\\n', '', text)\n",
    "    return text\n",
    "\n",
    "round2 = lambda x: clean_text_round2(x)"
   ]
  },
  {
   "cell_type": "code",
   "execution_count": 69,
   "metadata": {},
   "outputs": [
    {
     "data": {
      "text/plain": [
       "'image copyright getty imageson sunday morning donald trump went off on a twitter tirade against a member of his own partythis in itself isnt exactly huge news its far from the first time the president has turned his rhetorical cannons on his own ranksthis time however his attacks were particularly biting and personal he essentially called tennessee senator bob corker the chair of the powerful senate foreign relations committee a coward for not running for reelectionhe said mr corker begged for the presidents endorsement which he refused to give he wrongly claimed that mr corkers support of the iranian nuclear agreement was his only political accomplishmentunlike some of his colleagues mr corker  free from having to worry about his immediate political future  didnt hold his tongueskip twitter post by senbobcorker its a shame the white house has become an adult day care center someone obviously missed their shift this morning — senator bob corker senbobcorker october   reportthat wasnt the end of it though he then spoke with the new york times and really let the president have it here are four choice quotes from the tennessee senators interview with the times and why they are particularly damningi dont know why the president tweets out things that are not true you know he does it everyone knows he does it but he doesyou cant really sugarcoat this one mr corker is flatout saying the president is a liar  and everyone knows itthe senator in particular is challenging mr trumps insistence that he unsuccessfully pleaded for his endorsement but the accusation is much broadermr corker and the president used to be something akin to allies the tennessean was on mr trumps short list for vicepresident and secretary of stateimage copyright getty images image caption bob corker at trump campaign rally in july those days are seemingly very much over now  and its not like mr corker is going anywhere anytime soon although hes not running for reelection hell be in the senate chairing a powerful committee until january the presidents margin for success in that chamber is razorthin if democrats can continue to stand together in opposition he can afford to lose only two votes out of  republican senators thats why healthcare reform collapsed in july  and it could be bad news for tax effortsfrom here on out mr corker isnt going to do the president any favourslook except for a few people the vast majority of our caucus understands what were dealing with herefrustration in congress has been growing over what republicans feel has been the presidents inability to focus on advancing their agenda getting a sharply divided party to come together on plans to repeal obamacare reform taxes or boost infrastructure spending is challenging enough doing so when the president stirs up unrelated controversies on a seemingly daily basis makes things all the harderone of the presidents gifts has been his ability to shake off negative stories by quickly moving on to a different subject that worked brilliantly during his presidential campaign but its less effective during the legislative slow grindimage copyright getty images image caption corker at the confirmation hearing for secretary of state rex tillersonfor months republicans in congress have been grumbling about this in the background and among themselves occasionally someone like mr mcconnell will lament that the president doesnt understand how the senate worksmr corker has now stated it loud and clear and whats more he says almost everyone agrees with him theyve kept silent until now because they still hope to pass conservative legislation that the president can sign or fear mr trumps legions will back a primary challenge next year or stay home during the general electionif that calculus ever changes  if it becomes riskier to stay silent than speak out  mr trump will be in real troublea lot of people think that there is some kind of good cop bad cop act underway but thats just not truetime and again mr trump has appeared to undercut secretary of state rex tillerson and others in his administration who are attempting to use soft diplomacy to deal with a range of international crisesthe war against the taliban in afghanistan irans compliance with the multinational nuclear agreement the ongoing dispute between qatar and its persian gulf neighbours the unrest in venezuela and most recently north koreas continued ballistic missile tests have all been the target of the presidents offhand remarks and twitter invectivesome administration defenders have said this is all a part of mr trumps strategy  an updated version of the nixonera madman theory in which the president forces adversaries to give way because they fear an unpredictable us leaders actionsmr corker isnt buying it theres no strategy he says just the possibility of chaos  which he hopes mr trumps senior advisers will be able to avoidi know for a fact that every single day at the white house its a situation of trying to contain himtheres now a growing collection of john kelly facepalm photos that serve as a testament to the chiefofstaffs reported frustration at dealing with the presidentmr trump goes offscript to praise torchbearing white nationalists at a rally in charlottesville and mr kelly is captured closing his eyes and rubbing the arch of his nose as if attempting to stave off a migraineimage copyright reuters image caption white house chief of staff john kelly looks on as us president donald trump speaks at a campaign rallythe president calls north korean leaders criminals in a speech to the united nations and mr kelly straightup buries his face in his handsthe white house communications team is often left scrambling to try to explain or reframe an indelicate presidential joke or remark that directly contradicts what was until then the official administration lineeven though mr kelly has brought some discipline to the west wing staff the president still marches to the beat of his own drum  and continues to have unfettered access to his phones twitter appbob corker is only the latest person  politician journalist sports star or celebrity  to feel the mercurial presidents uncontainable ire'"
      ]
     },
     "execution_count": 69,
     "metadata": {},
     "output_type": "execute_result"
    }
   ],
   "source": [
    "#let's take a look at the updated text again\n",
    "data_clean = pd.DataFrame(data_clean.Body.apply(round2))\n",
    "data_clean['Body'][0]"
   ]
  },
  {
   "cell_type": "code",
   "execution_count": 70,
   "metadata": {},
   "outputs": [
    {
     "data": {
      "text/plain": [
       "'image copyright getty imageson sunday morning donald trump went off on a twitter tirade against a member of his own partythis in itself isnt exactly huge news its far from the first time the president has turned his rhetorical cannons on his own ranksthis time however his attacks were particularly biting and personal he essentially called tennessee senator bob corker the chair of the powerful senate foreign relations committee a coward for not running for reelectionhe said mr corker begged for the presidents endorsement which he refused to give he wrongly claimed that mr corkers support of the iranian nuclear agreement was his only political accomplishmentunlike some of his colleagues mr corker  free from having to worry about his immediate political future  didnt hold his tongueskip twitter post by senbobcorker its a shame the white house has become an adult day care center someone obviously missed their shift this morning — senator bob corker senbobcorker october   reportthat wasnt the end of it though he then spoke with the new york times and really let the president have it here are four choice quotes from the tennessee senators interview with the times and why they are particularly damningi dont know why the president tweets out things that are not true you know he does it everyone knows he does it but he doesyou cant really sugarcoat this one mr corker is flatout saying the president is a liar  and everyone knows itthe senator in particular is challenging mr trumps insistence that he unsuccessfully pleaded for his endorsement but the accusation is much broadermr corker and the president used to be something akin to allies the tennessean was on mr trumps short list for vicepresident and secretary of stateimage copyright getty images image caption bob corker at trump campaign rally in july those days are seemingly very much over now  and its not like mr corker is going anywhere anytime soon although hes not running for reelection hell be in the senate chairing a powerful committee until january the presidents margin for success in that chamber is razorthin if democrats can continue to stand together in opposition he can afford to lose only two votes out of  republican senators thats why healthcare reform collapsed in july  and it could be bad news for tax effortsfrom here on out mr corker isnt going to do the president any favourslook except for a few people the vast majority of our caucus understands what were dealing with herefrustration in congress has been growing over what republicans feel has been the presidents inability to focus on advancing their agenda getting a sharply divided party to come together on plans to repeal obamacare reform taxes or boost infrastructure spending is challenging enough doing so when the president stirs up unrelated controversies on a seemingly daily basis makes things all the harderone of the presidents gifts has been his ability to shake off negative stories by quickly moving on to a different subject that worked brilliantly during his presidential campaign but its less effective during the legislative slow grindimage copyright getty images image caption corker at the confirmation hearing for secretary of state rex tillersonfor months republicans in congress have been grumbling about this in the background and among themselves occasionally someone like mr mcconnell will lament that the president doesnt understand how the senate worksmr corker has now stated it loud and clear and whats more he says almost everyone agrees with him theyve kept silent until now because they still hope to pass conservative legislation that the president can sign or fear mr trumps legions will back a primary challenge next year or stay home during the general electionif that calculus ever changes  if it becomes riskier to stay silent than speak out  mr trump will be in real troublea lot of people think that there is some kind of good cop bad cop act underway but thats just not truetime and again mr trump has appeared to undercut secretary of state rex tillerson and others in his administration who are attempting to use soft diplomacy to deal with a range of international crisesthe war against the taliban in afghanistan irans compliance with the multinational nuclear agreement the ongoing dispute between qatar and its persian gulf neighbours the unrest in venezuela and most recently north koreas continued ballistic missile tests have all been the target of the presidents offhand remarks and twitter invectivesome administration defenders have said this is all a part of mr trumps strategy  an updated version of the nixonera madman theory in which the president forces adversaries to give way because they fear an unpredictable us leaders actionsmr corker isnt buying it theres no strategy he says just the possibility of chaos  which he hopes mr trumps senior advisers will be able to avoidi know for a fact that every single day at the white house its a situation of trying to contain himtheres now a growing collection of john kelly facepalm photos that serve as a testament to the chiefofstaffs reported frustration at dealing with the presidentmr trump goes offscript to praise torchbearing white nationalists at a rally in charlottesville and mr kelly is captured closing his eyes and rubbing the arch of his nose as if attempting to stave off a migraineimage copyright reuters image caption white house chief of staff john kelly looks on as us president donald trump speaks at a campaign rallythe president calls north korean leaders criminals in a speech to the united nations and mr kelly straightup buries his face in his handsthe white house communications team is often left scrambling to try to explain or reframe an indelicate presidential joke or remark that directly contradicts what was until then the official administration lineeven though mr kelly has brought some discipline to the west wing staff the president still marches to the beat of his own drum  and continues to have unfettered access to his phones twitter appbob corker is only the latest person  politician journalist sports star or celebrity  to feel the mercurial presidents uncontainable ire'"
      ]
     },
     "execution_count": 70,
     "metadata": {},
     "output_type": "execute_result"
    }
   ],
   "source": [
    "#Concatenating our cleaned data to our corpus\n",
    "data['clean_body'] = data_clean\n",
    "data['clean_body'][0]"
   ]
  },
  {
   "cell_type": "code",
   "execution_count": 71,
   "metadata": {},
   "outputs": [],
   "source": [
    "#Extract features and target variables\n",
    "import numpy as np\n",
    "\n",
    "X = np.array(data['clean_body'], data['URLs'])     #feature variables\n",
    "y = np.array(data['Label'])                          #target variable\n",
    "\n",
    "y = list(map(int, y))"
   ]
  },
  {
   "cell_type": "code",
   "execution_count": 72,
   "metadata": {},
   "outputs": [
    {
     "data": {
      "text/plain": [
       "2"
      ]
     },
     "execution_count": 72,
     "metadata": {},
     "output_type": "execute_result"
    }
   ],
   "source": [
    "#Split the data into folds\n",
    "from sklearn.model_selection import StratifiedKFold\n",
    "\n",
    "kf = StratifiedKFold(n_splits = 2)\n",
    "kf.get_n_splits(X)"
   ]
  },
  {
   "cell_type": "code",
   "execution_count": 73,
   "metadata": {},
   "outputs": [],
   "source": [
    "#Split the data into train and test\n",
    "from sklearn.model_selection import train_test_split\n",
    "\n",
    "X_train, X_test, y_train, y_test = train_test_split(X, y, test_size = 0.33)"
   ]
  },
  {
   "cell_type": "code",
   "execution_count": 74,
   "metadata": {},
   "outputs": [],
   "source": [
    "#create a document-term matrix for the train and test data using tfidf vectorizer\n",
    "from sklearn.feature_extraction.text import TfidfVectorizer\n",
    "\n",
    "tf = TfidfVectorizer(stop_words = 'english', max_df = 0.7)        #removing all Englilsh stop words\n",
    "tf_train = tf.fit_transform(X_train)\n",
    "tf_test = tf.transform(X_test)"
   ]
  },
  {
   "cell_type": "code",
   "execution_count": 75,
   "metadata": {},
   "outputs": [
    {
     "data": {
      "text/plain": [
       "MultinomialNB(alpha=1.0, class_prior=None, fit_prior=True)"
      ]
     },
     "execution_count": 75,
     "metadata": {},
     "output_type": "execute_result"
    }
   ],
   "source": [
    "#Now we feed our data into our classifiers to develop our model.\n",
    "#First we try the Naive Bayes classifier\n",
    "from sklearn.naive_bayes import MultinomialNB\n",
    "\n",
    "nb = MultinomialNB()\n",
    "\n",
    "#training the model\n",
    "nb.fit(tf_train, y_train)"
   ]
  },
  {
   "cell_type": "code",
   "execution_count": 76,
   "metadata": {},
   "outputs": [
    {
     "data": {
      "text/plain": [
       "array([0, 0, 0, 1, 0, 0, 0, 1, 0, 1])"
      ]
     },
     "execution_count": 76,
     "metadata": {},
     "output_type": "execute_result"
    }
   ],
   "source": [
    "#predicting\n",
    "nb_pred = nb.predict(tf_test)\n",
    "nb_pred[0:10]"
   ]
  },
  {
   "cell_type": "code",
   "execution_count": 77,
   "metadata": {},
   "outputs": [
    {
     "name": "stdout",
     "output_type": "stream",
     "text": [
      "accuracy: 0.943\n"
     ]
    }
   ],
   "source": [
    "#Evaluating the accuracy of the model\n",
    "nb_score = nb.score(tf_test, y_test)\n",
    "print('accuracy: %0.3f' % nb_score)"
   ]
  },
  {
   "cell_type": "code",
   "execution_count": 78,
   "metadata": {},
   "outputs": [
    {
     "name": "stderr",
     "output_type": "stream",
     "text": [
      "/usr/local/lib/python3.7/dist-packages/sklearn/linear_model/logistic.py:432: FutureWarning: Default solver will be changed to 'lbfgs' in 0.22. Specify a solver to silence this warning.\n",
      "  FutureWarning)\n"
     ]
    },
    {
     "data": {
      "text/plain": [
       "LogisticRegression(C=1.0, class_weight=None, dual=False, fit_intercept=True,\n",
       "                   intercept_scaling=1, l1_ratio=None, max_iter=100,\n",
       "                   multi_class='warn', n_jobs=None, penalty='l2',\n",
       "                   random_state=None, solver='warn', tol=0.0001, verbose=0,\n",
       "                   warm_start=False)"
      ]
     },
     "execution_count": 78,
     "metadata": {},
     "output_type": "execute_result"
    }
   ],
   "source": [
    "#Next let's build another model using logistic Regression\n",
    "from sklearn.linear_model import LogisticRegression\n",
    "\n",
    "lr = LogisticRegression()\n",
    "\n",
    "#training the model\n",
    "lr.fit(tf_train, y_train)"
   ]
  },
  {
   "cell_type": "code",
   "execution_count": 79,
   "metadata": {},
   "outputs": [
    {
     "data": {
      "text/plain": [
       "array([0, 0, 0, 1, 0, 1, 0, 1, 0, 1])"
      ]
     },
     "execution_count": 79,
     "metadata": {},
     "output_type": "execute_result"
    }
   ],
   "source": [
    "#predicting\n",
    "lr_pred = lr.predict(tf_test)\n",
    "lr_pred[0:10]"
   ]
  },
  {
   "cell_type": "code",
   "execution_count": 80,
   "metadata": {},
   "outputs": [
    {
     "name": "stdout",
     "output_type": "stream",
     "text": [
      "accuracy: 0.966\n"
     ]
    }
   ],
   "source": [
    "#Evaluating the accuracy of the logistic regression model\n",
    "lr_score = lr.score(tf_test, y_test)\n",
    "print('accuracy: %0.3f' % lr_score)"
   ]
  },
  {
   "cell_type": "code",
   "execution_count": 81,
   "metadata": {},
   "outputs": [
    {
     "name": "stderr",
     "output_type": "stream",
     "text": [
      "/usr/local/lib/python3.7/dist-packages/sklearn/ensemble/forest.py:245: FutureWarning: The default value of n_estimators will change from 10 in version 0.20 to 100 in 0.22.\n",
      "  \"10 in version 0.20 to 100 in 0.22.\", FutureWarning)\n"
     ]
    },
    {
     "data": {
      "text/plain": [
       "RandomForestClassifier(bootstrap=True, class_weight=None, criterion='gini',\n",
       "                       max_depth=None, max_features='auto', max_leaf_nodes=None,\n",
       "                       min_impurity_decrease=0.0, min_impurity_split=None,\n",
       "                       min_samples_leaf=1, min_samples_split=2,\n",
       "                       min_weight_fraction_leaf=0.0, n_estimators=10,\n",
       "                       n_jobs=None, oob_score=False, random_state=None,\n",
       "                       verbose=0, warm_start=False)"
      ]
     },
     "execution_count": 81,
     "metadata": {},
     "output_type": "execute_result"
    }
   ],
   "source": [
    "#Using the random forest classifier\n",
    "from sklearn.ensemble import RandomForestClassifier\n",
    "\n",
    "rf = RandomForestClassifier()\n",
    "\n",
    "#training the model\n",
    "rf.fit(tf_train, y_train)"
   ]
  },
  {
   "cell_type": "code",
   "execution_count": 82,
   "metadata": {},
   "outputs": [
    {
     "data": {
      "text/plain": [
       "array([0, 0, 0, 1, 0, 1, 1, 1, 1, 1])"
      ]
     },
     "execution_count": 82,
     "metadata": {},
     "output_type": "execute_result"
    }
   ],
   "source": [
    "#predicting\n",
    "rf_pred = rf.predict(tf_test)\n",
    "rf_pred[0:10]"
   ]
  },
  {
   "cell_type": "code",
   "execution_count": 83,
   "metadata": {},
   "outputs": [
    {
     "name": "stdout",
     "output_type": "stream",
     "text": [
      "accuracy: 0.941\n"
     ]
    }
   ],
   "source": [
    "#Evaluating the accuracy of the model\n",
    "rf_score = rf.score(tf_test, y_test)\n",
    "print('accuracy: %0.3f' % rf_score)"
   ]
  },
  {
   "cell_type": "code",
   "execution_count": 84,
   "metadata": {},
   "outputs": [],
   "source": [
    "# We are going to create document-term matrix using the tfidf vectorizer\n",
    "#from sklearn.feature_extraction.text import TfidfVectorizer\n",
    "\n",
    "#tf = TfidfVectorizer(stop_words = 'english', max_df = 0.7) #removing all english stop words\n",
    "#data_tf = tf.fit_transform(data_clean.Body)\n",
    "#data_dtm = pd.DataFrame(data_tf.toarray(), columns = tf.get_feature_names())\n",
    "#data_dtm.index = data_clean.index\n",
    "#data_dtm"
   ]
  },
  {
   "cell_type": "code",
   "execution_count": 85,
   "metadata": {},
   "outputs": [],
   "source": [
    "#let's pickle the data_dtm for future use\n",
    "#data_dtm.to_pickle(\"dtm.pkl\")"
   ]
  },
  {
   "cell_type": "code",
   "execution_count": 86,
   "metadata": {},
   "outputs": [],
   "source": [
    "#let's pickle the cleaned data for future use\n",
    "import pickle\n",
    "\n",
    "data_clean.to_pickle('data_clean.pkl')\n",
    "pickle.dump(tf, open('cv.pkl', 'wb'))"
   ]
  },
  {
   "cell_type": "code",
   "execution_count": 87,
   "metadata": {},
   "outputs": [],
   "source": [
    "#Since the logistic regression model is the most accurate classifier, lets save it and test it with \n",
    "#other news articles\n",
    "\n",
    "#saving the model\n",
    "\n",
    "with open ('log_model', 'wb') as f:\n",
    "    pickle.dump(lr, f)"
   ]
  },
  {
   "cell_type": "code",
   "execution_count": 88,
   "metadata": {},
   "outputs": [],
   "source": [
    "#importing the model and testing\n",
    "\n",
    "with open ('log_model', 'rb') as f:\n",
    "    lr_model = pickle.load(f)"
   ]
  },
  {
   "cell_type": "code",
   "execution_count": 89,
   "metadata": {},
   "outputs": [
    {
     "data": {
      "text/plain": [
       "array([0, 0, 0, ..., 0, 1, 1])"
      ]
     },
     "execution_count": 89,
     "metadata": {},
     "output_type": "execute_result"
    }
   ],
   "source": [
    "lr_model.predict(tf_test)"
   ]
  },
  {
   "cell_type": "code",
   "execution_count": 97,
   "metadata": {},
   "outputs": [],
   "source": [
    "#A function that converts articles into dtm and parses into the model\n",
    "\n",
    "#def words_to_dtm(article):\n",
    "#    tfa = TfidfVectorizer(stop_words = 'english', max_df = 0.5)\n",
    "#    tfa_train = tfa.fit_transform(article)\n",
    "#    tfa_test = tfa.transform(article)\n",
    "    \n",
    "#    return tfa_test"
   ]
  },
  {
   "cell_type": "code",
   "execution_count": 98,
   "metadata": {},
   "outputs": [],
   "source": [
    "text = \"\"\"\"LONDON (Reuters) - “Last Flag Flying”, a comedy-drama about Vietnam war veterans, will resonate with Trump’s America, despite, or perhaps because of, its period setting, actor Bryan Cranston said on Sunday after a screening at the London Film Festival.\n",
    "Set in the United States in December 2003 – when U.S. forces in Iraq were dragging Saddam Hussein out of a “spider hole” - it is the story of three ageing former servicemen who reunite to bury the son of one of them who has been killed in action.\n",
    "With President Donald Trump saying he could “totally destroy” North Korea and characterizing a dinner with military commanders as “the calm before the storm”, Cranston said “Last Flag Flying” was a timely reminder of the effect on normal Americans of ill-advised military campaigns.\n",
    "“I think it has a lot of relevance today in the sense that (today) it’s not clear cut as far as the (what are the) intentions of the government or military,” Cranston, acclaimed for his lead role in the TV drama “Breaking Bad”, told Reuters.\n",
    "“In World War Two, it was the ‘good war’, it was clear and present danger, we had to stop this mad man. Since then, with Vietnam and Iraq, (there are) a lot of questions ... among the troops and the citizens as to if we are doing the right thing and what is the purpose of our being there.”\n",
    "Cast member Bryan Cranston (R) and director Richard Linklater pose with festival director Claire Stewart as they arrive for the premiere of \"Last Flag Flying\" during the British Film Institute (BFI) London Film Festival at the Odeon, Leicester Square, in London, Britain October 8, 2017. REUTERS/Afolabi Sotunde\n",
    "“Last Flag Flying” was produced by Amazon Studios and directed and co-written by Richard Linklater, whose greatest critical acclaim has been for the naturalistic “Before Sunset” trilogy and the 2014 “Boyhood” which won a slew of Oscar nominations.\n",
    "Linklater also made comedies including “School of Rock” and “Everybody Wants Some!!”, about skirt-chasing undergraduates. “Last Flag Flying” falls somewhere between the two genres.\n",
    "Cast member Bryan Cranston (R) poses with director Richard Linklater as they arrive for the premiere of \"Last Flag Flying\" during the British Film Institute (BFI) London Film Festival at the Odeon, Leicester Square, in London, Britain October 8, 2017. REUTERS/Afolabi Sotunde\n",
    "The drama and comedy stem from the chemistry between the three leads, each played by a big Hollywood name.\n",
    "Steve Carell is the awkward shy one who, we assume, was quiet and withdrawn even before the loss of his son. Cranston plays a foul-mouthed, hard-drinking bar owner who is his own best customer, and Laurence Fishburne, is a man who has found God and become an evangelical preacher, preferring to forget the sex and drugs they all indulged in back in ‘Nam.\n",
    "Vanity Fair’s Richard Lawson said the film’s ability to honor the footsoldiers while being critical of the wars they are sent to fight, could hit “an Academy sweet spot, satisfying both the more conservative oldsters and the younger, leftier types.”\n",
    "Other critics said “Last Flag Flying” lacked the light touch of Linklater’s best work. The Guardian’s Benjamin Lee called it “a half-baked TV movie masquerading as Oscarbait, a curious misstep for the Oscar-nominated indie auteur”.\n",
    "Writing by Robin Pomeroy, editing by David Evans\"\"\""
   ]
  },
  {
   "cell_type": "code",
   "execution_count": 99,
   "metadata": {},
   "outputs": [],
   "source": [
    "#words_to_dtm([text])"
   ]
  },
  {
   "cell_type": "code",
   "execution_count": null,
   "metadata": {},
   "outputs": [],
   "source": [
    "#lr_model.predict(words_to_dtm([text]))"
   ]
  }
 ],
 "metadata": {
  "kernelspec": {
   "display_name": "Python 3",
   "language": "python",
   "name": "python3"
  },
  "language_info": {
   "codemirror_mode": {
    "name": "ipython",
    "version": 3
   },
   "file_extension": ".py",
   "mimetype": "text/x-python",
   "name": "python",
   "nbconvert_exporter": "python",
   "pygments_lexer": "ipython3",
   "version": "3.7.5"
  }
 },
 "nbformat": 4,
 "nbformat_minor": 2
}
